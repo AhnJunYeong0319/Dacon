{
  "nbformat": 4,
  "nbformat_minor": 0,
  "metadata": {
    "colab": {
      "name": "안준영.ipynb",
      "provenance": [],
      "collapsed_sections": [],
      "toc_visible": true
    },
    "kernelspec": {
      "name": "python3",
      "display_name": "Python 3"
    }
  },
  "cells": [
    {
      "cell_type": "code",
      "metadata": {
        "id": "cXU8bn8-M_bn"
      },
      "source": [
        "import matplotlib as mpl\r\n",
        "import pandas as pd\r\n",
        "from google.colab import drive\r\n",
        "import matplotlib.pyplot as plt\r\n",
        "import matplotlib\r\n",
        "import numpy as np\r\n",
        "import seaborn as sns"
      ],
      "execution_count": 174,
      "outputs": []
    },
    {
      "cell_type": "code",
      "metadata": {
        "id": "oApxJbV9Tzf8",
        "colab": {
          "base_uri": "https://localhost:8080/"
        },
        "outputId": "f4ab303a-54c7-4149-98ac-adf177ca7c93"
      },
      "source": [
        "drive.mount('/content/gdrive')"
      ],
      "execution_count": 43,
      "outputs": [
        {
          "output_type": "stream",
          "text": [
            "Drive already mounted at /content/gdrive; to attempt to forcibly remount, call drive.mount(\"/content/gdrive\", force_remount=True).\n"
          ],
          "name": "stdout"
        }
      ]
    },
    {
      "cell_type": "code",
      "metadata": {
        "id": "kWM0GcSwOF98"
      },
      "source": [
        "act = pd.read_csv('/content/gdrive/MyDrive/2_act_info.csv')\r\n",
        "cus = pd.read_csv('/content/gdrive/MyDrive/2_cus_info.csv')\r\n",
        "iem = pd.read_csv('/content/gdrive/MyDrive/2_iem_info.csv')\r\n",
        "trd_kr = pd.read_csv('/content/gdrive/MyDrive/2_trd_kr.csv')\r\n",
        "trd_oss = pd.read_csv('/content/gdrive/MyDrive/2_trd_oss.csv')\r\n",
        "#data_schema_vf.xlsx"
      ],
      "execution_count": 44,
      "outputs": []
    },
    {
      "cell_type": "code",
      "metadata": {
        "id": "1zDDfK0UmF1H"
      },
      "source": [
        "# Y세대 : 1980~2000년생 (21살~40살) / Z세대 2001년생~ (1살~20살)"
      ],
      "execution_count": 45,
      "outputs": []
    },
    {
      "cell_type": "code",
      "metadata": {
        "colab": {
          "base_uri": "https://localhost:8080/",
          "height": 406
        },
        "id": "Vj8DYcw_TzHv",
        "outputId": "63611934-c92f-4ccb-bcb1-3cf911146a7f"
      },
      "source": [
        "trd_oss"
      ],
      "execution_count": 46,
      "outputs": [
        {
          "output_type": "execute_result",
          "data": {
            "text/html": [
              "<div>\n",
              "<style scoped>\n",
              "    .dataframe tbody tr th:only-of-type {\n",
              "        vertical-align: middle;\n",
              "    }\n",
              "\n",
              "    .dataframe tbody tr th {\n",
              "        vertical-align: top;\n",
              "    }\n",
              "\n",
              "    .dataframe thead th {\n",
              "        text-align: right;\n",
              "    }\n",
              "</style>\n",
              "<table border=\"1\" class=\"dataframe\">\n",
              "  <thead>\n",
              "    <tr style=\"text-align: right;\">\n",
              "      <th></th>\n",
              "      <th>act_id</th>\n",
              "      <th>orr_dt</th>\n",
              "      <th>orr_ord</th>\n",
              "      <th>orr_rtn_hur</th>\n",
              "      <th>lst_cns_hur</th>\n",
              "      <th>iem_cd</th>\n",
              "      <th>sby_dit_cd</th>\n",
              "      <th>cns_qty</th>\n",
              "      <th>orr_pr</th>\n",
              "      <th>orr_mdi_dit_cd</th>\n",
              "      <th>cur_cd</th>\n",
              "      <th>trd_cur_xcg_rt</th>\n",
              "    </tr>\n",
              "  </thead>\n",
              "  <tbody>\n",
              "    <tr>\n",
              "      <th>0</th>\n",
              "      <td>12c2bf5b4929fa3cb8b8aa7b45c0d000f7e3b868621b5b...</td>\n",
              "      <td>20190102</td>\n",
              "      <td>1</td>\n",
              "      <td>14</td>\n",
              "      <td>14</td>\n",
              "      <td>CNE100001526</td>\n",
              "      <td>2</td>\n",
              "      <td>100.0</td>\n",
              "      <td>49.1500</td>\n",
              "      <td>3</td>\n",
              "      <td>CNY</td>\n",
              "      <td>162.55</td>\n",
              "    </tr>\n",
              "    <tr>\n",
              "      <th>1</th>\n",
              "      <td>f51b1d8b13186e30aee7a407e235eb87b6b84ed85ca7a4...</td>\n",
              "      <td>20190102</td>\n",
              "      <td>1</td>\n",
              "      <td>1</td>\n",
              "      <td>1</td>\n",
              "      <td>US0378331005</td>\n",
              "      <td>2</td>\n",
              "      <td>10.0</td>\n",
              "      <td>157.6000</td>\n",
              "      <td>3</td>\n",
              "      <td>USD</td>\n",
              "      <td>1118.10</td>\n",
              "    </tr>\n",
              "    <tr>\n",
              "      <th>2</th>\n",
              "      <td>f51b1d8b13186e30aee7a407e235eb87b6b84ed85ca7a4...</td>\n",
              "      <td>20190102</td>\n",
              "      <td>2</td>\n",
              "      <td>1</td>\n",
              "      <td>1</td>\n",
              "      <td>US7561091049</td>\n",
              "      <td>2</td>\n",
              "      <td>2.0</td>\n",
              "      <td>61.9399</td>\n",
              "      <td>3</td>\n",
              "      <td>USD</td>\n",
              "      <td>1118.10</td>\n",
              "    </tr>\n",
              "    <tr>\n",
              "      <th>3</th>\n",
              "      <td>37bc7b62e55f0cf8402a1f86dc8d09b09a3028bb13afa6...</td>\n",
              "      <td>20190103</td>\n",
              "      <td>1</td>\n",
              "      <td>2</td>\n",
              "      <td>3</td>\n",
              "      <td>US9229083632</td>\n",
              "      <td>2</td>\n",
              "      <td>3.0</td>\n",
              "      <td>225.0000</td>\n",
              "      <td>3</td>\n",
              "      <td>USD</td>\n",
              "      <td>1119.00</td>\n",
              "    </tr>\n",
              "    <tr>\n",
              "      <th>4</th>\n",
              "      <td>e340482168a2154b323ec2b9a0d003d840590ddafb0e2b...</td>\n",
              "      <td>20190103</td>\n",
              "      <td>1</td>\n",
              "      <td>0</td>\n",
              "      <td>0</td>\n",
              "      <td>US74347X8314</td>\n",
              "      <td>1</td>\n",
              "      <td>6.0</td>\n",
              "      <td>34.5000</td>\n",
              "      <td>3</td>\n",
              "      <td>USD</td>\n",
              "      <td>1119.00</td>\n",
              "    </tr>\n",
              "    <tr>\n",
              "      <th>...</th>\n",
              "      <td>...</td>\n",
              "      <td>...</td>\n",
              "      <td>...</td>\n",
              "      <td>...</td>\n",
              "      <td>...</td>\n",
              "      <td>...</td>\n",
              "      <td>...</td>\n",
              "      <td>...</td>\n",
              "      <td>...</td>\n",
              "      <td>...</td>\n",
              "      <td>...</td>\n",
              "      <td>...</td>\n",
              "    </tr>\n",
              "    <tr>\n",
              "      <th>29296</th>\n",
              "      <td>3f17959c32c50ee64012a5344fb3e6b1ba038963b89ca8...</td>\n",
              "      <td>20200630</td>\n",
              "      <td>1</td>\n",
              "      <td>1</td>\n",
              "      <td>1</td>\n",
              "      <td>US88160R1014</td>\n",
              "      <td>1</td>\n",
              "      <td>2.0</td>\n",
              "      <td>1080.8800</td>\n",
              "      <td>3</td>\n",
              "      <td>USD</td>\n",
              "      <td>1200.70</td>\n",
              "    </tr>\n",
              "    <tr>\n",
              "      <th>29297</th>\n",
              "      <td>3f17959c32c50ee64012a5344fb3e6b1ba038963b89ca8...</td>\n",
              "      <td>20200630</td>\n",
              "      <td>2</td>\n",
              "      <td>1</td>\n",
              "      <td>1</td>\n",
              "      <td>US88160R1014</td>\n",
              "      <td>2</td>\n",
              "      <td>1.0</td>\n",
              "      <td>1080.0000</td>\n",
              "      <td>3</td>\n",
              "      <td>USD</td>\n",
              "      <td>1200.70</td>\n",
              "    </tr>\n",
              "    <tr>\n",
              "      <th>29298</th>\n",
              "      <td>3f17959c32c50ee64012a5344fb3e6b1ba038963b89ca8...</td>\n",
              "      <td>20200630</td>\n",
              "      <td>3</td>\n",
              "      <td>3</td>\n",
              "      <td>3</td>\n",
              "      <td>US88160R1014</td>\n",
              "      <td>2</td>\n",
              "      <td>1.0</td>\n",
              "      <td>1083.0000</td>\n",
              "      <td>3</td>\n",
              "      <td>USD</td>\n",
              "      <td>1200.70</td>\n",
              "    </tr>\n",
              "    <tr>\n",
              "      <th>29299</th>\n",
              "      <td>3f17959c32c50ee64012a5344fb3e6b1ba038963b89ca8...</td>\n",
              "      <td>20200630</td>\n",
              "      <td>4</td>\n",
              "      <td>23</td>\n",
              "      <td>23</td>\n",
              "      <td>US88160R1014</td>\n",
              "      <td>1</td>\n",
              "      <td>2.0</td>\n",
              "      <td>1040.5600</td>\n",
              "      <td>3</td>\n",
              "      <td>USD</td>\n",
              "      <td>1200.70</td>\n",
              "    </tr>\n",
              "    <tr>\n",
              "      <th>29300</th>\n",
              "      <td>df6a314d9ef943cdb66a308a37362c492d2b8ecdfcec82...</td>\n",
              "      <td>20200630</td>\n",
              "      <td>1</td>\n",
              "      <td>23</td>\n",
              "      <td>2</td>\n",
              "      <td>US4510332038</td>\n",
              "      <td>2</td>\n",
              "      <td>100.0</td>\n",
              "      <td>2.1500</td>\n",
              "      <td>3</td>\n",
              "      <td>USD</td>\n",
              "      <td>1200.70</td>\n",
              "    </tr>\n",
              "  </tbody>\n",
              "</table>\n",
              "<p>29301 rows × 12 columns</p>\n",
              "</div>"
            ],
            "text/plain": [
              "                                                  act_id  ...  trd_cur_xcg_rt\n",
              "0      12c2bf5b4929fa3cb8b8aa7b45c0d000f7e3b868621b5b...  ...          162.55\n",
              "1      f51b1d8b13186e30aee7a407e235eb87b6b84ed85ca7a4...  ...         1118.10\n",
              "2      f51b1d8b13186e30aee7a407e235eb87b6b84ed85ca7a4...  ...         1118.10\n",
              "3      37bc7b62e55f0cf8402a1f86dc8d09b09a3028bb13afa6...  ...         1119.00\n",
              "4      e340482168a2154b323ec2b9a0d003d840590ddafb0e2b...  ...         1119.00\n",
              "...                                                  ...  ...             ...\n",
              "29296  3f17959c32c50ee64012a5344fb3e6b1ba038963b89ca8...  ...         1200.70\n",
              "29297  3f17959c32c50ee64012a5344fb3e6b1ba038963b89ca8...  ...         1200.70\n",
              "29298  3f17959c32c50ee64012a5344fb3e6b1ba038963b89ca8...  ...         1200.70\n",
              "29299  3f17959c32c50ee64012a5344fb3e6b1ba038963b89ca8...  ...         1200.70\n",
              "29300  df6a314d9ef943cdb66a308a37362c492d2b8ecdfcec82...  ...         1200.70\n",
              "\n",
              "[29301 rows x 12 columns]"
            ]
          },
          "metadata": {
            "tags": []
          },
          "execution_count": 46
        }
      ]
    },
    {
      "cell_type": "code",
      "metadata": {
        "id": "sSxHqA35mFSc"
      },
      "source": [
        ""
      ],
      "execution_count": 46,
      "outputs": []
    },
    {
      "cell_type": "code",
      "metadata": {
        "id": "MgNXk8yFOGMF"
      },
      "source": [
        "x = pd.read_excel('/content/gdrive/MyDrive/data_schema_vf.xlsx')"
      ],
      "execution_count": 47,
      "outputs": []
    },
    {
      "cell_type": "code",
      "metadata": {
        "id": "HZ_qPGBYOGOV",
        "colab": {
          "base_uri": "https://localhost:8080/",
          "height": 406
        },
        "outputId": "0db7ea1e-7571-4775-b3b8-5b0b9ae0cca2"
      },
      "source": [
        "x"
      ],
      "execution_count": 48,
      "outputs": [
        {
          "output_type": "execute_result",
          "data": {
            "text/html": [
              "<div>\n",
              "<style scoped>\n",
              "    .dataframe tbody tr th:only-of-type {\n",
              "        vertical-align: middle;\n",
              "    }\n",
              "\n",
              "    .dataframe tbody tr th {\n",
              "        vertical-align: top;\n",
              "    }\n",
              "\n",
              "    .dataframe thead th {\n",
              "        text-align: right;\n",
              "    }\n",
              "</style>\n",
              "<table border=\"1\" class=\"dataframe\">\n",
              "  <thead>\n",
              "    <tr style=\"text-align: right;\">\n",
              "      <th></th>\n",
              "      <th>Unnamed: 0</th>\n",
              "      <th>Unnamed: 1</th>\n",
              "      <th>Unnamed: 2</th>\n",
              "      <th>Unnamed: 3</th>\n",
              "      <th>Unnamed: 4</th>\n",
              "      <th>Unnamed: 5</th>\n",
              "      <th>Unnamed: 6</th>\n",
              "    </tr>\n",
              "  </thead>\n",
              "  <tbody>\n",
              "    <tr>\n",
              "      <th>0</th>\n",
              "      <td>NaN</td>\n",
              "      <td>CUS_INFO.CSV(10,000건)</td>\n",
              "      <td>NaN</td>\n",
              "      <td>NaN</td>\n",
              "      <td>NaN</td>\n",
              "      <td>NaN</td>\n",
              "      <td>NaN</td>\n",
              "    </tr>\n",
              "    <tr>\n",
              "      <th>1</th>\n",
              "      <td>NaN</td>\n",
              "      <td>No</td>\n",
              "      <td>컬럼명</td>\n",
              "      <td>컬럼한글명</td>\n",
              "      <td>컬럼설명</td>\n",
              "      <td>예시</td>\n",
              "      <td>비고</td>\n",
              "    </tr>\n",
              "    <tr>\n",
              "      <th>2</th>\n",
              "      <td>NaN</td>\n",
              "      <td>1</td>\n",
              "      <td>CUS_ID</td>\n",
              "      <td>고객번호</td>\n",
              "      <td>고객을 구분할 수 있는 Unique값</td>\n",
              "      <td>1eec7e43dd6ea34d6be7a9484459e4db1a2da44c5bf311...</td>\n",
              "      <td>고객을 구분할 수 있는 Unique 값</td>\n",
              "    </tr>\n",
              "    <tr>\n",
              "      <th>3</th>\n",
              "      <td>NaN</td>\n",
              "      <td>2</td>\n",
              "      <td>SEX_DIT_CD</td>\n",
              "      <td>성별</td>\n",
              "      <td>1: 남성 / 2: 여성</td>\n",
              "      <td>1</td>\n",
              "      <td>NaN</td>\n",
              "    </tr>\n",
              "    <tr>\n",
              "      <th>4</th>\n",
              "      <td>NaN</td>\n",
              "      <td>3</td>\n",
              "      <td>CUS_AGE</td>\n",
              "      <td>연령대</td>\n",
              "      <td>00: 19세 이하</td>\n",
              "      <td>10</td>\n",
              "      <td>연령대를 5세 단위로 군집화</td>\n",
              "    </tr>\n",
              "    <tr>\n",
              "      <th>...</th>\n",
              "      <td>...</td>\n",
              "      <td>...</td>\n",
              "      <td>...</td>\n",
              "      <td>...</td>\n",
              "      <td>...</td>\n",
              "      <td>...</td>\n",
              "      <td>...</td>\n",
              "    </tr>\n",
              "    <tr>\n",
              "      <th>65</th>\n",
              "      <td>NaN</td>\n",
              "      <td>NaN</td>\n",
              "      <td>NaN</td>\n",
              "      <td>NaN</td>\n",
              "      <td>0: 영업점단말 / 1: 유선단말 / 2: 무선단말 / 3: HTS / 4: 기타</td>\n",
              "      <td>NaN</td>\n",
              "      <td>NaN</td>\n",
              "    </tr>\n",
              "    <tr>\n",
              "      <th>66</th>\n",
              "      <td>NaN</td>\n",
              "      <td>11</td>\n",
              "      <td>CUR_CD</td>\n",
              "      <td>거래통화코드</td>\n",
              "      <td>AUD: 오스트레일리아-달러 / CAD: 캐나다-달러 / CNY: 렌민비(위안) E...</td>\n",
              "      <td>AUD</td>\n",
              "      <td>NaN</td>\n",
              "    </tr>\n",
              "    <tr>\n",
              "      <th>67</th>\n",
              "      <td>NaN</td>\n",
              "      <td>NaN</td>\n",
              "      <td>NaN</td>\n",
              "      <td>NaN</td>\n",
              "      <td>JPY:일본-엔 / KRW: 대한민국-원 / SGD: 싱가포르-달러</td>\n",
              "      <td>NaN</td>\n",
              "      <td>NaN</td>\n",
              "    </tr>\n",
              "    <tr>\n",
              "      <th>68</th>\n",
              "      <td>NaN</td>\n",
              "      <td>NaN</td>\n",
              "      <td>NaN</td>\n",
              "      <td>NaN</td>\n",
              "      <td>USD: 미국-달러 / VND: 동</td>\n",
              "      <td>NaN</td>\n",
              "      <td>NaN</td>\n",
              "    </tr>\n",
              "    <tr>\n",
              "      <th>69</th>\n",
              "      <td>NaN</td>\n",
              "      <td>12</td>\n",
              "      <td>TRD_CUR_XCG_RT</td>\n",
              "      <td>거래통화환율</td>\n",
              "      <td>거래에 대한 통화환율</td>\n",
              "      <td>1499</td>\n",
              "      <td>NaN</td>\n",
              "    </tr>\n",
              "  </tbody>\n",
              "</table>\n",
              "<p>70 rows × 7 columns</p>\n",
              "</div>"
            ],
            "text/plain": [
              "    Unnamed: 0  ...             Unnamed: 6\n",
              "0          NaN  ...                    NaN\n",
              "1          NaN  ...                     비고\n",
              "2          NaN  ...  고객을 구분할 수 있는 Unique 값\n",
              "3          NaN  ...                    NaN\n",
              "4          NaN  ...        연령대를 5세 단위로 군집화\n",
              "..         ...  ...                    ...\n",
              "65         NaN  ...                    NaN\n",
              "66         NaN  ...                    NaN\n",
              "67         NaN  ...                    NaN\n",
              "68         NaN  ...                    NaN\n",
              "69         NaN  ...                    NaN\n",
              "\n",
              "[70 rows x 7 columns]"
            ]
          },
          "metadata": {
            "tags": []
          },
          "execution_count": 48
        }
      ]
    },
    {
      "cell_type": "code",
      "metadata": {
        "id": "GAJuRhQQOFT6",
        "colab": {
          "base_uri": "https://localhost:8080/"
        },
        "outputId": "e7e6081e-33c3-42b0-ce81-d9aa77472972"
      },
      "source": [
        "cus['sex_dit_cd']"
      ],
      "execution_count": 49,
      "outputs": [
        {
          "output_type": "execute_result",
          "data": {
            "text/plain": [
              "0       2\n",
              "1       2\n",
              "2       1\n",
              "3       1\n",
              "4       1\n",
              "       ..\n",
              "9995    2\n",
              "9996    2\n",
              "9997    2\n",
              "9998    1\n",
              "9999    1\n",
              "Name: sex_dit_cd, Length: 10000, dtype: int64"
            ]
          },
          "metadata": {
            "tags": []
          },
          "execution_count": 49
        }
      ]
    },
    {
      "cell_type": "code",
      "metadata": {
        "id": "Lx1pnnJC822D"
      },
      "source": [
        ""
      ],
      "execution_count": 49,
      "outputs": []
    },
    {
      "cell_type": "code",
      "metadata": {
        "id": "j5YysT4a_HCK"
      },
      "source": [
        "# 1남성 / 2여성\r\n",
        "sex_counts = cus['sex_dit_cd'].value_counts()"
      ],
      "execution_count": 50,
      "outputs": []
    },
    {
      "cell_type": "code",
      "metadata": {
        "id": "ukCpBHCaNKEE",
        "colab": {
          "base_uri": "https://localhost:8080/",
          "height": 872
        },
        "outputId": "f24cd706-e6ca-4a16-ae0c-f2c77473a19a"
      },
      "source": [
        "explode = [0.05, 0.05]\r\n",
        "#colors = ['#ff9999', '#ffc000', '#8fd9b6', '#d395d0']\r\n",
        "colors = ['#ffc000', '#ff9999']\r\n",
        "\r\n",
        "\r\n",
        "fig, ax = plt.subplots(1,2,figsize=(20,15))\r\n",
        "\r\n",
        "\r\n",
        "ax[0].bar(['male', 'female'],[sex_counts[1], sex_counts[2]], color = colors)\r\n",
        "ax[1].pie([sex_counts[1], sex_counts[2]], labels=['male', 'female'], autopct='%.1f%%', startangle=260, counterclock=False, explode=explode, shadow=True, colors=colors) #textprops={'fontsize': 25}\r\n",
        "\r\n",
        "\r\n",
        "#plt.scatter(['male', 'female'], [sex_counts[1], sex_counts[2]], marker= 'o', s=400, color= 'red', alpha=0.5)\r\n",
        "plt.rcParams.update({'font.size': 20})\r\n",
        "\r\n",
        "plt.show()"
      ],
      "execution_count": 51,
      "outputs": [
        {
          "output_type": "display_data",
          "data": {
            "image/png": "[encoded data removed]",
            "text/plain": [
              "<Figure size 1440x1080 with 2 Axes>"
            ]
          },
          "metadata": {
            "tags": [],
            "needs_background": "light"
          }
        }
      ]
    },
    {
      "cell_type": "code",
      "metadata": {
        "id": "pHvIRbjFNKIy"
      },
      "source": [
        ""
      ],
      "execution_count": 51,
      "outputs": []
    },
    {
      "cell_type": "code",
      "metadata": {
        "id": "ZfioQ_OrNKQG",
        "colab": {
          "base_uri": "https://localhost:8080/",
          "height": 935
        },
        "outputId": "eec90e4d-fe59-4814-e916-51d4699fa007"
      },
      "source": [
        "p = cus['cus_age'].value_counts()\r\n",
        "p.sort_index(inplace=True)\r\n",
        "\r\n",
        "explode = [0.2, 0.15, 0.05, 0.05, 0.05, 0.05, 0.05, 0.05, 0.05, 0.15, 0.2, 0.25]\r\n",
        "#colors = ['#ff9999', '#ffc000', '#8fd9b6', '#d395d0']\r\n",
        "ages = ['≤19', '20~24', '25~29', '30~34', '35~39', '40~44', '45~49', '50~54', '55~59', '60~64', '65~69', '≤70']\r\n",
        "colors = ['#a5d98f', '#8fd9b6', '#8fd9cf', '#8fc7d9', '#8fa0d9', '#a28fd9', '#b98fd9', '#c78fd9', '#d395d0', '#d395b8', '#d395a6', '#d39595']\r\n",
        "\r\n",
        "\r\n",
        "fig, ax = plt.subplots(1, 2,figsize=(20,15))\r\n",
        "\r\n",
        "\r\n",
        "\r\n",
        "ax[0].bar(ages,[p[i] for i in [0,20,25,30,35,40,45,50,55,60,65,70]], color = colors)\r\n",
        "ax[1].pie([p[i] for i in [0,20,25,30,35,40,45,50,55,60,65,70]], labels = ages, autopct='%.1f%%', startangle=260, counterclock=False, explode=explode, shadow=True, colors=colors) #textprops={'fontsize': 10}\r\n",
        "\r\n",
        "plt.rcParams.update({'font.size': 20})\r\n",
        "\r\n",
        "ax[0].tick_params(labelrotation=45)\r\n",
        "ax[0].set_title('v = 1',fontweight=\"bold\", size=20)\r\n",
        "\r\n",
        "plt.show()"
      ],
      "execution_count": 52,
      "outputs": [
        {
          "output_type": "display_data",
          "data": {
            "image/png": "[encoded data removed]",
            "text/plain": [
              "<Figure size 1440x1080 with 2 Axes>"
            ]
          },
          "metadata": {
            "tags": [],
            "needs_background": "light"
          }
        }
      ]
    },
    {
      "cell_type": "code",
      "metadata": {
        "id": "_at6aFVbNKSi"
      },
      "source": [
        ""
      ],
      "execution_count": 52,
      "outputs": []
    },
    {
      "cell_type": "markdown",
      "metadata": {
        "id": "D0JkgDuop4qu"
      },
      "source": [
        "\r\n",
        "<h1><span style=\"background-color:yellow;\">--------------------------------12-23 이후------------------------------- </span></h1>"
      ]
    },
    {
      "cell_type": "code",
      "metadata": {
        "id": "isgqr08qpyWF"
      },
      "source": [
        "#act\r\n",
        "#cus\r\n",
        "#iem\r\n",
        "#trd_kr\r\n",
        "#trd_oss"
      ],
      "execution_count": 78,
      "outputs": []
    },
    {
      "cell_type": "code",
      "metadata": {
        "id": "_h7sAPNOpyYj"
      },
      "source": [
        "act.columns = ['계좌번호', '고객번호', '계좌개설월']\r\n",
        "cus.columns = ['고객번호', '성별', '연령대', '주소(시도)', '고객등급', '고객투자성향']\r\n",
        "iem.columns = ['종목코드', '종목영문명', '종목한글명']\r\n",
        "trd_kr.columns = ['계좌번호','주문날짜','주문순서','주문접수시간대','최종체결시간대','종목코드','매매구분코드','체결수량','체결가격','주문매체구분코드']\r\n",
        "trd_oss.columns = ['계좌번호','주문날짜','주문순서','주문접수시간대','최종체결시간대','종목코드','매매구분코드','체결수량','체결가격','주문매체구분코드','거래통화코드','거래통화환율']"
      ],
      "execution_count": 79,
      "outputs": []
    },
    {
      "cell_type": "code",
      "metadata": {
        "id": "XeRNkYbapyj9"
      },
      "source": [
        "yz20 = cus['연령대'] == 20\r\n",
        "yz25 = cus['연령대'] == 25\r\n",
        "yz30 = cus['연령대'] == 30\r\n",
        "yz35 = cus['연령대'] == 35\r\n",
        "\r\n",
        "cus_yz = cus.loc[cus['연령대'].index[yz20 | yz25 | yz30 | yz35]]\r\n",
        "cus_y = cus.loc[cus['연령대'].index[yz20 | yz25]]\r\n",
        "cus_z = cus.loc[cus['연령대'].index[yz30 | yz35]]"
      ],
      "execution_count": 80,
      "outputs": []
    },
    {
      "cell_type": "code",
      "metadata": {
        "id": "wdY1PQjoNKUh"
      },
      "source": [
        "import numpy as np"
      ],
      "execution_count": 81,
      "outputs": []
    },
    {
      "cell_type": "code",
      "metadata": {
        "id": "-nhcfKA_4Tfo"
      },
      "source": [
        ""
      ],
      "execution_count": 82,
      "outputs": []
    },
    {
      "cell_type": "code",
      "metadata": {
        "id": "DqtB7ig14TiL",
        "colab": {
          "base_uri": "https://localhost:8080/",
          "height": 406
        },
        "outputId": "c7fdc6a7-9293-4e44-a2ac-5472d24b6142"
      },
      "source": [
        "trd_kr"
      ],
      "execution_count": 83,
      "outputs": [
        {
          "output_type": "execute_result",
          "data": {
            "text/html": [
              "<div>\n",
              "<style scoped>\n",
              "    .dataframe tbody tr th:only-of-type {\n",
              "        vertical-align: middle;\n",
              "    }\n",
              "\n",
              "    .dataframe tbody tr th {\n",
              "        vertical-align: top;\n",
              "    }\n",
              "\n",
              "    .dataframe thead th {\n",
              "        text-align: right;\n",
              "    }\n",
              "</style>\n",
              "<table border=\"1\" class=\"dataframe\">\n",
              "  <thead>\n",
              "    <tr style=\"text-align: right;\">\n",
              "      <th></th>\n",
              "      <th>계좌번호</th>\n",
              "      <th>주문날짜</th>\n",
              "      <th>주문순서</th>\n",
              "      <th>주문접수시간대</th>\n",
              "      <th>최종체결시간대</th>\n",
              "      <th>종목코드</th>\n",
              "      <th>매매구분코드</th>\n",
              "      <th>체결수량</th>\n",
              "      <th>체결가격</th>\n",
              "      <th>주문매체구분코드</th>\n",
              "    </tr>\n",
              "  </thead>\n",
              "  <tbody>\n",
              "    <tr>\n",
              "      <th>0</th>\n",
              "      <td>6caf4de40251d37cbba310f0c6dd0ed8f4c7ca4ccfa675...</td>\n",
              "      <td>20190102</td>\n",
              "      <td>1</td>\n",
              "      <td>12</td>\n",
              "      <td>13</td>\n",
              "      <td>A215600</td>\n",
              "      <td>2</td>\n",
              "      <td>35.0</td>\n",
              "      <td>74200.0</td>\n",
              "      <td>3</td>\n",
              "    </tr>\n",
              "    <tr>\n",
              "      <th>1</th>\n",
              "      <td>6caf4de40251d37cbba310f0c6dd0ed8f4c7ca4ccfa675...</td>\n",
              "      <td>20190102</td>\n",
              "      <td>2</td>\n",
              "      <td>12</td>\n",
              "      <td>12</td>\n",
              "      <td>A001060</td>\n",
              "      <td>2</td>\n",
              "      <td>20.0</td>\n",
              "      <td>41100.0</td>\n",
              "      <td>3</td>\n",
              "    </tr>\n",
              "    <tr>\n",
              "      <th>2</th>\n",
              "      <td>effb34815e1b7efb34beb550f604ede8ac71a5a71edb30...</td>\n",
              "      <td>20190102</td>\n",
              "      <td>1</td>\n",
              "      <td>14</td>\n",
              "      <td>14</td>\n",
              "      <td>A281820</td>\n",
              "      <td>2</td>\n",
              "      <td>20.0</td>\n",
              "      <td>9460.0</td>\n",
              "      <td>4</td>\n",
              "    </tr>\n",
              "    <tr>\n",
              "      <th>3</th>\n",
              "      <td>fea6c038cb7236a02d1e779262698a36219b4c9b527ab1...</td>\n",
              "      <td>20190102</td>\n",
              "      <td>1</td>\n",
              "      <td>12</td>\n",
              "      <td>12</td>\n",
              "      <td>A006650</td>\n",
              "      <td>2</td>\n",
              "      <td>1.0</td>\n",
              "      <td>148500.0</td>\n",
              "      <td>3</td>\n",
              "    </tr>\n",
              "    <tr>\n",
              "      <th>4</th>\n",
              "      <td>fea6c038cb7236a02d1e779262698a36219b4c9b527ab1...</td>\n",
              "      <td>20190102</td>\n",
              "      <td>2</td>\n",
              "      <td>12</td>\n",
              "      <td>13</td>\n",
              "      <td>A051360</td>\n",
              "      <td>2</td>\n",
              "      <td>10.0</td>\n",
              "      <td>6550.0</td>\n",
              "      <td>3</td>\n",
              "    </tr>\n",
              "    <tr>\n",
              "      <th>...</th>\n",
              "      <td>...</td>\n",
              "      <td>...</td>\n",
              "      <td>...</td>\n",
              "      <td>...</td>\n",
              "      <td>...</td>\n",
              "      <td>...</td>\n",
              "      <td>...</td>\n",
              "      <td>...</td>\n",
              "      <td>...</td>\n",
              "      <td>...</td>\n",
              "    </tr>\n",
              "    <tr>\n",
              "      <th>3312659</th>\n",
              "      <td>a96172625957ac18f6debba0c3283f1aa4608c1d19a404...</td>\n",
              "      <td>20200630</td>\n",
              "      <td>2</td>\n",
              "      <td>13</td>\n",
              "      <td>13</td>\n",
              "      <td>A900250</td>\n",
              "      <td>1</td>\n",
              "      <td>1.0</td>\n",
              "      <td>1760.0</td>\n",
              "      <td>3</td>\n",
              "    </tr>\n",
              "    <tr>\n",
              "      <th>3312660</th>\n",
              "      <td>a96172625957ac18f6debba0c3283f1aa4608c1d19a404...</td>\n",
              "      <td>20200630</td>\n",
              "      <td>3</td>\n",
              "      <td>16</td>\n",
              "      <td>16</td>\n",
              "      <td>A011930</td>\n",
              "      <td>2</td>\n",
              "      <td>2.0</td>\n",
              "      <td>1340.0</td>\n",
              "      <td>3</td>\n",
              "    </tr>\n",
              "    <tr>\n",
              "      <th>3312661</th>\n",
              "      <td>c8d469612160df7251dd5d434ca25b0b8e2f40ace9a37f...</td>\n",
              "      <td>20200630</td>\n",
              "      <td>1</td>\n",
              "      <td>11</td>\n",
              "      <td>11</td>\n",
              "      <td>A019175</td>\n",
              "      <td>2</td>\n",
              "      <td>35.0</td>\n",
              "      <td>44000.0</td>\n",
              "      <td>3</td>\n",
              "    </tr>\n",
              "    <tr>\n",
              "      <th>3312662</th>\n",
              "      <td>1a046249ad088f30dae8038eb95d51427f10228677d4fb...</td>\n",
              "      <td>20200630</td>\n",
              "      <td>1</td>\n",
              "      <td>16</td>\n",
              "      <td>16</td>\n",
              "      <td>A037950</td>\n",
              "      <td>1</td>\n",
              "      <td>400.0</td>\n",
              "      <td>1810.0</td>\n",
              "      <td>4</td>\n",
              "    </tr>\n",
              "    <tr>\n",
              "      <th>3312663</th>\n",
              "      <td>1a046249ad088f30dae8038eb95d51427f10228677d4fb...</td>\n",
              "      <td>20200630</td>\n",
              "      <td>2</td>\n",
              "      <td>16</td>\n",
              "      <td>16</td>\n",
              "      <td>A353200</td>\n",
              "      <td>2</td>\n",
              "      <td>100.0</td>\n",
              "      <td>7740.0</td>\n",
              "      <td>4</td>\n",
              "    </tr>\n",
              "  </tbody>\n",
              "</table>\n",
              "<p>3312664 rows × 10 columns</p>\n",
              "</div>"
            ],
            "text/plain": [
              "                                                      계좌번호  ...  주문매체구분코드\n",
              "0        6caf4de40251d37cbba310f0c6dd0ed8f4c7ca4ccfa675...  ...         3\n",
              "1        6caf4de40251d37cbba310f0c6dd0ed8f4c7ca4ccfa675...  ...         3\n",
              "2        effb34815e1b7efb34beb550f604ede8ac71a5a71edb30...  ...         4\n",
              "3        fea6c038cb7236a02d1e779262698a36219b4c9b527ab1...  ...         3\n",
              "4        fea6c038cb7236a02d1e779262698a36219b4c9b527ab1...  ...         3\n",
              "...                                                    ...  ...       ...\n",
              "3312659  a96172625957ac18f6debba0c3283f1aa4608c1d19a404...  ...         3\n",
              "3312660  a96172625957ac18f6debba0c3283f1aa4608c1d19a404...  ...         3\n",
              "3312661  c8d469612160df7251dd5d434ca25b0b8e2f40ace9a37f...  ...         3\n",
              "3312662  1a046249ad088f30dae8038eb95d51427f10228677d4fb...  ...         4\n",
              "3312663  1a046249ad088f30dae8038eb95d51427f10228677d4fb...  ...         4\n",
              "\n",
              "[3312664 rows x 10 columns]"
            ]
          },
          "metadata": {
            "tags": []
          },
          "execution_count": 83
        }
      ]
    },
    {
      "cell_type": "code",
      "metadata": {
        "id": "P8Zjs5lu4Tkj",
        "colab": {
          "base_uri": "https://localhost:8080/",
          "height": 406
        },
        "outputId": "df855244-89d2-49ec-d04d-e90c04feaa96"
      },
      "source": [
        "trd_oss"
      ],
      "execution_count": 84,
      "outputs": [
        {
          "output_type": "execute_result",
          "data": {
            "text/html": [
              "<div>\n",
              "<style scoped>\n",
              "    .dataframe tbody tr th:only-of-type {\n",
              "        vertical-align: middle;\n",
              "    }\n",
              "\n",
              "    .dataframe tbody tr th {\n",
              "        vertical-align: top;\n",
              "    }\n",
              "\n",
              "    .dataframe thead th {\n",
              "        text-align: right;\n",
              "    }\n",
              "</style>\n",
              "<table border=\"1\" class=\"dataframe\">\n",
              "  <thead>\n",
              "    <tr style=\"text-align: right;\">\n",
              "      <th></th>\n",
              "      <th>계좌번호</th>\n",
              "      <th>주문날짜</th>\n",
              "      <th>주문순서</th>\n",
              "      <th>주문접수시간대</th>\n",
              "      <th>최종체결시간대</th>\n",
              "      <th>종목코드</th>\n",
              "      <th>매매구분코드</th>\n",
              "      <th>체결수량</th>\n",
              "      <th>체결가격</th>\n",
              "      <th>주문매체구분코드</th>\n",
              "      <th>거래통화코드</th>\n",
              "      <th>거래통화환율</th>\n",
              "    </tr>\n",
              "  </thead>\n",
              "  <tbody>\n",
              "    <tr>\n",
              "      <th>0</th>\n",
              "      <td>12c2bf5b4929fa3cb8b8aa7b45c0d000f7e3b868621b5b...</td>\n",
              "      <td>20190102</td>\n",
              "      <td>1</td>\n",
              "      <td>14</td>\n",
              "      <td>14</td>\n",
              "      <td>CNE100001526</td>\n",
              "      <td>2</td>\n",
              "      <td>100.0</td>\n",
              "      <td>49.1500</td>\n",
              "      <td>3</td>\n",
              "      <td>CNY</td>\n",
              "      <td>162.55</td>\n",
              "    </tr>\n",
              "    <tr>\n",
              "      <th>1</th>\n",
              "      <td>f51b1d8b13186e30aee7a407e235eb87b6b84ed85ca7a4...</td>\n",
              "      <td>20190102</td>\n",
              "      <td>1</td>\n",
              "      <td>1</td>\n",
              "      <td>1</td>\n",
              "      <td>US0378331005</td>\n",
              "      <td>2</td>\n",
              "      <td>10.0</td>\n",
              "      <td>157.6000</td>\n",
              "      <td>3</td>\n",
              "      <td>USD</td>\n",
              "      <td>1118.10</td>\n",
              "    </tr>\n",
              "    <tr>\n",
              "      <th>2</th>\n",
              "      <td>f51b1d8b13186e30aee7a407e235eb87b6b84ed85ca7a4...</td>\n",
              "      <td>20190102</td>\n",
              "      <td>2</td>\n",
              "      <td>1</td>\n",
              "      <td>1</td>\n",
              "      <td>US7561091049</td>\n",
              "      <td>2</td>\n",
              "      <td>2.0</td>\n",
              "      <td>61.9399</td>\n",
              "      <td>3</td>\n",
              "      <td>USD</td>\n",
              "      <td>1118.10</td>\n",
              "    </tr>\n",
              "    <tr>\n",
              "      <th>3</th>\n",
              "      <td>37bc7b62e55f0cf8402a1f86dc8d09b09a3028bb13afa6...</td>\n",
              "      <td>20190103</td>\n",
              "      <td>1</td>\n",
              "      <td>2</td>\n",
              "      <td>3</td>\n",
              "      <td>US9229083632</td>\n",
              "      <td>2</td>\n",
              "      <td>3.0</td>\n",
              "      <td>225.0000</td>\n",
              "      <td>3</td>\n",
              "      <td>USD</td>\n",
              "      <td>1119.00</td>\n",
              "    </tr>\n",
              "    <tr>\n",
              "      <th>4</th>\n",
              "      <td>e340482168a2154b323ec2b9a0d003d840590ddafb0e2b...</td>\n",
              "      <td>20190103</td>\n",
              "      <td>1</td>\n",
              "      <td>0</td>\n",
              "      <td>0</td>\n",
              "      <td>US74347X8314</td>\n",
              "      <td>1</td>\n",
              "      <td>6.0</td>\n",
              "      <td>34.5000</td>\n",
              "      <td>3</td>\n",
              "      <td>USD</td>\n",
              "      <td>1119.00</td>\n",
              "    </tr>\n",
              "    <tr>\n",
              "      <th>...</th>\n",
              "      <td>...</td>\n",
              "      <td>...</td>\n",
              "      <td>...</td>\n",
              "      <td>...</td>\n",
              "      <td>...</td>\n",
              "      <td>...</td>\n",
              "      <td>...</td>\n",
              "      <td>...</td>\n",
              "      <td>...</td>\n",
              "      <td>...</td>\n",
              "      <td>...</td>\n",
              "      <td>...</td>\n",
              "    </tr>\n",
              "    <tr>\n",
              "      <th>29296</th>\n",
              "      <td>3f17959c32c50ee64012a5344fb3e6b1ba038963b89ca8...</td>\n",
              "      <td>20200630</td>\n",
              "      <td>1</td>\n",
              "      <td>1</td>\n",
              "      <td>1</td>\n",
              "      <td>US88160R1014</td>\n",
              "      <td>1</td>\n",
              "      <td>2.0</td>\n",
              "      <td>1080.8800</td>\n",
              "      <td>3</td>\n",
              "      <td>USD</td>\n",
              "      <td>1200.70</td>\n",
              "    </tr>\n",
              "    <tr>\n",
              "      <th>29297</th>\n",
              "      <td>3f17959c32c50ee64012a5344fb3e6b1ba038963b89ca8...</td>\n",
              "      <td>20200630</td>\n",
              "      <td>2</td>\n",
              "      <td>1</td>\n",
              "      <td>1</td>\n",
              "      <td>US88160R1014</td>\n",
              "      <td>2</td>\n",
              "      <td>1.0</td>\n",
              "      <td>1080.0000</td>\n",
              "      <td>3</td>\n",
              "      <td>USD</td>\n",
              "      <td>1200.70</td>\n",
              "    </tr>\n",
              "    <tr>\n",
              "      <th>29298</th>\n",
              "      <td>3f17959c32c50ee64012a5344fb3e6b1ba038963b89ca8...</td>\n",
              "      <td>20200630</td>\n",
              "      <td>3</td>\n",
              "      <td>3</td>\n",
              "      <td>3</td>\n",
              "      <td>US88160R1014</td>\n",
              "      <td>2</td>\n",
              "      <td>1.0</td>\n",
              "      <td>1083.0000</td>\n",
              "      <td>3</td>\n",
              "      <td>USD</td>\n",
              "      <td>1200.70</td>\n",
              "    </tr>\n",
              "    <tr>\n",
              "      <th>29299</th>\n",
              "      <td>3f17959c32c50ee64012a5344fb3e6b1ba038963b89ca8...</td>\n",
              "      <td>20200630</td>\n",
              "      <td>4</td>\n",
              "      <td>23</td>\n",
              "      <td>23</td>\n",
              "      <td>US88160R1014</td>\n",
              "      <td>1</td>\n",
              "      <td>2.0</td>\n",
              "      <td>1040.5600</td>\n",
              "      <td>3</td>\n",
              "      <td>USD</td>\n",
              "      <td>1200.70</td>\n",
              "    </tr>\n",
              "    <tr>\n",
              "      <th>29300</th>\n",
              "      <td>df6a314d9ef943cdb66a308a37362c492d2b8ecdfcec82...</td>\n",
              "      <td>20200630</td>\n",
              "      <td>1</td>\n",
              "      <td>23</td>\n",
              "      <td>2</td>\n",
              "      <td>US4510332038</td>\n",
              "      <td>2</td>\n",
              "      <td>100.0</td>\n",
              "      <td>2.1500</td>\n",
              "      <td>3</td>\n",
              "      <td>USD</td>\n",
              "      <td>1200.70</td>\n",
              "    </tr>\n",
              "  </tbody>\n",
              "</table>\n",
              "<p>29301 rows × 12 columns</p>\n",
              "</div>"
            ],
            "text/plain": [
              "                                                    계좌번호  ...   거래통화환율\n",
              "0      12c2bf5b4929fa3cb8b8aa7b45c0d000f7e3b868621b5b...  ...   162.55\n",
              "1      f51b1d8b13186e30aee7a407e235eb87b6b84ed85ca7a4...  ...  1118.10\n",
              "2      f51b1d8b13186e30aee7a407e235eb87b6b84ed85ca7a4...  ...  1118.10\n",
              "3      37bc7b62e55f0cf8402a1f86dc8d09b09a3028bb13afa6...  ...  1119.00\n",
              "4      e340482168a2154b323ec2b9a0d003d840590ddafb0e2b...  ...  1119.00\n",
              "...                                                  ...  ...      ...\n",
              "29296  3f17959c32c50ee64012a5344fb3e6b1ba038963b89ca8...  ...  1200.70\n",
              "29297  3f17959c32c50ee64012a5344fb3e6b1ba038963b89ca8...  ...  1200.70\n",
              "29298  3f17959c32c50ee64012a5344fb3e6b1ba038963b89ca8...  ...  1200.70\n",
              "29299  3f17959c32c50ee64012a5344fb3e6b1ba038963b89ca8...  ...  1200.70\n",
              "29300  df6a314d9ef943cdb66a308a37362c492d2b8ecdfcec82...  ...  1200.70\n",
              "\n",
              "[29301 rows x 12 columns]"
            ]
          },
          "metadata": {
            "tags": []
          },
          "execution_count": 84
        }
      ]
    },
    {
      "cell_type": "code",
      "metadata": {
        "id": "gFriJPaGnhTU"
      },
      "source": [
        ""
      ],
      "execution_count": 84,
      "outputs": []
    },
    {
      "cell_type": "code",
      "metadata": {
        "id": "NEG8Hr43njKJ"
      },
      "source": [
        "sex_counts_yz = cus_yz['성별'].value_counts()"
      ],
      "execution_count": 85,
      "outputs": []
    },
    {
      "cell_type": "code",
      "metadata": {
        "id": "Jh4NtepynhV5",
        "colab": {
          "base_uri": "https://localhost:8080/",
          "height": 896
        },
        "outputId": "eb85ea5c-3da7-47fc-a8f1-4c3540901630"
      },
      "source": [
        "explode = [0.05, 0.05]\r\n",
        "#colors = ['#ff9999', '#ffc000', '#8fd9b6', '#d395d0']\r\n",
        "colors = ['#ffc000', '#ff9999']\r\n",
        "\r\n",
        "\r\n",
        "fig, ax = plt.subplots(1,2,figsize=(20,15))\r\n",
        "\r\n",
        "\r\n",
        "ax[0].bar(['male', 'female'],[sex_counts_yz[1], sex_counts_yz[2]], color = colors)\r\n",
        "ax[1].pie([sex_counts_yz[1], sex_counts_yz[2]], labels=['male', 'female'], autopct='%.1f%%', startangle=260, counterclock=False, explode=explode, shadow=True, colors=colors) #textprops={'fontsize': 25}\r\n",
        "\r\n",
        "ax[0].set_title('XY gender ratio bar chart')\r\n",
        "ax[1].set_title('XY gender ratio pie chart')\r\n",
        "\r\n",
        "#plt.scatter(['male', 'female'], [sex_counts[1], sex_counts[2]], marker= 'o', s=400, color= 'red', alpha=0.5)\r\n",
        "plt.rcParams.update({'font.size': 20})\r\n",
        "\r\n",
        "plt.show()"
      ],
      "execution_count": 86,
      "outputs": [
        {
          "output_type": "display_data",
          "data": {
            "image/png": "[encoded data removed]",
            "text/plain": [
              "<Figure size 1440x1080 with 2 Axes>"
            ]
          },
          "metadata": {
            "tags": [],
            "needs_background": "light"
          }
        }
      ]
    },
    {
      "cell_type": "code",
      "metadata": {
        "id": "1vWnpcvnnhX2"
      },
      "source": [
        ""
      ],
      "execution_count": 86,
      "outputs": []
    },
    {
      "cell_type": "code",
      "metadata": {
        "id": "zJXCke8InhaF"
      },
      "source": [
        ""
      ],
      "execution_count": 86,
      "outputs": []
    },
    {
      "cell_type": "code",
      "metadata": {
        "id": "P47ZiHvdnhcX"
      },
      "source": [
        ""
      ],
      "execution_count": 86,
      "outputs": []
    },
    {
      "cell_type": "code",
      "metadata": {
        "id": "W0iQGxHFnhy3"
      },
      "source": [
        ""
      ],
      "execution_count": 86,
      "outputs": []
    },
    {
      "cell_type": "code",
      "metadata": {
        "id": "X-wzvKCS4Tm9"
      },
      "source": [
        "# result = pd.merge(trd_kr, trd_oss, on = '계좌번호')"
      ],
      "execution_count": 87,
      "outputs": []
    },
    {
      "cell_type": "code",
      "metadata": {
        "id": "05s7A7mK4TrQ"
      },
      "source": [
        "ages = cus['연령대'].value_counts()\r\n",
        "ages.sort_index(inplace=True)"
      ],
      "execution_count": 88,
      "outputs": []
    },
    {
      "cell_type": "code",
      "metadata": {
        "id": "K_5ikub64TtR",
        "colab": {
          "base_uri": "https://localhost:8080/",
          "height": 893
        },
        "outputId": "831809a0-1cfe-4d36-a714-a68c859c63ba"
      },
      "source": [
        "ages = cus['연령대'].value_counts()\r\n",
        "ages.sort_index(inplace=True)\r\n",
        "\r\n",
        "X = ages[40] + ages[45] + ages[50] + ages[55] + ages[60] + ages[65] + ages[70]\r\n",
        "Y = ages[25] + ages[30] + ages[35]\r\n",
        "Z = ages[0] + ages[20]\r\n",
        "\r\n",
        "explode = [0.05, 0.05, 0.05]\r\n",
        "#colors = ['#ff9999', '#ffc000', '#8fd9b6', '#d395d0']\r\n",
        "ages_range = ['X', 'Y', 'Z']\r\n",
        "colors = ['#a5d98f', '#8fd9b6', '#8fd9cf', '#8fc7d9', '#8fa0d9', '#a28fd9', '#b98fd9', '#c78fd9', '#d395d0', '#d395b8', '#d395a6', '#d39595']\r\n",
        "\r\n",
        "\r\n",
        "fig, ax = plt.subplots(1, 2,figsize=(20,15))\r\n",
        "\r\n",
        "\r\n",
        "\r\n",
        "ax[0].bar(ages_range,[X, Y, Z], color = colors)\r\n",
        "ax[1].pie([X, Y, Z], labels = ages_range, autopct='%.1f%%', startangle=260, counterclock=False, explode=explode, shadow=True, colors=colors) #textprops={'fontsize': 10}\r\n",
        "\r\n",
        "plt.rcParams.update({'font.size': 20})\r\n",
        "\r\n",
        "ax[0].tick_params(labelrotation=0)\r\n",
        "ax[0].set_title('X, Y, Z',fontweight=\"bold\", size=20)\r\n",
        "\r\n",
        "plt.show()"
      ],
      "execution_count": 135,
      "outputs": [
        {
          "output_type": "display_data",
          "data": {
            "image/png": "[encoded data removed]",
            "text/plain": [
              "<Figure size 1440x1080 with 2 Axes>"
            ]
          },
          "metadata": {
            "tags": [],
            "needs_background": "light"
          }
        }
      ]
    },
    {
      "cell_type": "code",
      "metadata": {
        "id": "C_B3GFE3CLcS",
        "colab": {
          "base_uri": "https://localhost:8080/"
        },
        "outputId": "cb10268c-a5ab-4964-86fc-c5b1e1d31e84"
      },
      "source": [
        "ages"
      ],
      "execution_count": 90,
      "outputs": [
        {
          "output_type": "execute_result",
          "data": {
            "text/plain": [
              "0      212\n",
              "20     348\n",
              "25     906\n",
              "30     957\n",
              "35    1207\n",
              "40    1302\n",
              "45    1496\n",
              "50    1272\n",
              "55     987\n",
              "60     647\n",
              "65     312\n",
              "70     354\n",
              "Name: 연령대, dtype: int64"
            ]
          },
          "metadata": {
            "tags": []
          },
          "execution_count": 90
        }
      ]
    },
    {
      "cell_type": "markdown",
      "metadata": {
        "id": "hv6vydDNl5Vh"
      },
      "source": [
        "Q. 가장 거래량이 많은 종목은?\r\n",
        "Q. 삼성전자의 거래량은?\r\n",
        "Q. 주문접수 시간대 - 체결 시간대\r\n",
        "Q. 등급별 / 투자성향 별 거래량\r\n",
        "\r\n"
      ]
    },
    {
      "cell_type": "code",
      "metadata": {
        "id": "osVxPw8il2Z5",
        "colab": {
          "base_uri": "https://localhost:8080/",
          "height": 134
        },
        "outputId": "ca7ed0f2-8481-4e6b-8884-8f6e1c7d7ba6"
      },
      "source": [
        "Y / Z 주문매체 구분코드"
      ],
      "execution_count": 91,
      "outputs": [
        {
          "output_type": "error",
          "ename": "SyntaxError",
          "evalue": "ignored",
          "traceback": [
            "\u001b[0;36m  File \u001b[0;32m\"<ipython-input-91-ef728d799ae8>\"\u001b[0;36m, line \u001b[0;32m1\u001b[0m\n\u001b[0;31m    Y / Z 주문매체 구분코드\u001b[0m\n\u001b[0m             ^\u001b[0m\n\u001b[0;31mSyntaxError\u001b[0m\u001b[0;31m:\u001b[0m invalid syntax\n"
          ]
        }
      ]
    },
    {
      "cell_type": "markdown",
      "metadata": {
        "id": "bcPwaoDwnC8d"
      },
      "source": [
        "!! 1) act에서 계좌번호 - 고객번호 2)cus에서 고객번호 - 연령대 3) 연령대를 trd_oss에 갖다붙이기\r\n",
        "\r\n",
        "계좌 개설월 - 첫 거래\r\n",
        "-> 관심도 분석\r\n",
        "\r\n",
        "성별"
      ]
    },
    {
      "cell_type": "code",
      "metadata": {
        "id": "-P6_SxJJKRC_"
      },
      "source": [
        ""
      ],
      "execution_count": 91,
      "outputs": []
    },
    {
      "cell_type": "code",
      "metadata": {
        "id": "KbglJ77vXVZK",
        "colab": {
          "base_uri": "https://localhost:8080/",
          "height": 406
        },
        "outputId": "cfd94458-0905-4045-b330-aa76c311bd05"
      },
      "source": [
        "act"
      ],
      "execution_count": 92,
      "outputs": [
        {
          "output_type": "execute_result",
          "data": {
            "text/html": [
              "<div>\n",
              "<style scoped>\n",
              "    .dataframe tbody tr th:only-of-type {\n",
              "        vertical-align: middle;\n",
              "    }\n",
              "\n",
              "    .dataframe tbody tr th {\n",
              "        vertical-align: top;\n",
              "    }\n",
              "\n",
              "    .dataframe thead th {\n",
              "        text-align: right;\n",
              "    }\n",
              "</style>\n",
              "<table border=\"1\" class=\"dataframe\">\n",
              "  <thead>\n",
              "    <tr style=\"text-align: right;\">\n",
              "      <th></th>\n",
              "      <th>계좌번호</th>\n",
              "      <th>고객번호</th>\n",
              "      <th>계좌개설월</th>\n",
              "    </tr>\n",
              "  </thead>\n",
              "  <tbody>\n",
              "    <tr>\n",
              "      <th>0</th>\n",
              "      <td>8e1a987ebef2a3374ba558aeda4c7821de7808a11cfea1...</td>\n",
              "      <td>892f41b5002a79c9c93992acf60682f5698372aea023bd...</td>\n",
              "      <td>197912</td>\n",
              "    </tr>\n",
              "    <tr>\n",
              "      <th>1</th>\n",
              "      <td>eb161b66263589c3f38efd2277cec2a9a81e1ffa0a5255...</td>\n",
              "      <td>006ad32069efb2a8ce1a99542dfe41cb14e8e75685278a...</td>\n",
              "      <td>198702</td>\n",
              "    </tr>\n",
              "    <tr>\n",
              "      <th>2</th>\n",
              "      <td>01866857515304e9e1315e54863cc1108e1d46fff0d467...</td>\n",
              "      <td>1925ed2d8ed2cad53997f5b24722482137c4d1da4b555e...</td>\n",
              "      <td>199109</td>\n",
              "    </tr>\n",
              "    <tr>\n",
              "      <th>3</th>\n",
              "      <td>63a58b0fee2fa4dc467c043fde465846b65705659497c5...</td>\n",
              "      <td>7829365dc463ed8275c8b92518d58b3c8d983f00f7bf87...</td>\n",
              "      <td>199401</td>\n",
              "    </tr>\n",
              "    <tr>\n",
              "      <th>4</th>\n",
              "      <td>b563fb76d3d432d67198f194701ca67e895da4c2f24e8e...</td>\n",
              "      <td>36e05dde058cf7531bd4001ed3b976ef9562a9ecd9f43d...</td>\n",
              "      <td>199404</td>\n",
              "    </tr>\n",
              "    <tr>\n",
              "      <th>...</th>\n",
              "      <td>...</td>\n",
              "      <td>...</td>\n",
              "      <td>...</td>\n",
              "    </tr>\n",
              "    <tr>\n",
              "      <th>23954</th>\n",
              "      <td>83a634e16d41723f45abb7171d2720b9ec31c0bb7614a5...</td>\n",
              "      <td>f8f5f2a45565e6db2b4c6def8298c9bb865bbee85216d3...</td>\n",
              "      <td>201012</td>\n",
              "    </tr>\n",
              "    <tr>\n",
              "      <th>23955</th>\n",
              "      <td>fcc666cfa3def2e7023eaf1e28f39f0cb357d8cb9ec9f2...</td>\n",
              "      <td>484d70977d68defc52a7b800e098846c04829388217375...</td>\n",
              "      <td>200909</td>\n",
              "    </tr>\n",
              "    <tr>\n",
              "      <th>23956</th>\n",
              "      <td>4bf846f46e7c0b8547a2e04caf6573976eb621156f3032...</td>\n",
              "      <td>0931f895fe62bcdf3918b0ad6271c76d4f1934ff0e36eb...</td>\n",
              "      <td>201201</td>\n",
              "    </tr>\n",
              "    <tr>\n",
              "      <th>23957</th>\n",
              "      <td>bdb499007eb246137859668816eebddde9bfeb3efaec8e...</td>\n",
              "      <td>24653394d720670b49b1146b2793481bdca7aa7a84d11c...</td>\n",
              "      <td>199712</td>\n",
              "    </tr>\n",
              "    <tr>\n",
              "      <th>23958</th>\n",
              "      <td>3e5168a7d5ec0efd23f240bd5d9530e4285ff9e661e81c...</td>\n",
              "      <td>de85269c18672536604fd60cb06a616ab9dab4dafb804c...</td>\n",
              "      <td>200203</td>\n",
              "    </tr>\n",
              "  </tbody>\n",
              "</table>\n",
              "<p>23959 rows × 3 columns</p>\n",
              "</div>"
            ],
            "text/plain": [
              "                                                    계좌번호  ...   계좌개설월\n",
              "0      8e1a987ebef2a3374ba558aeda4c7821de7808a11cfea1...  ...  197912\n",
              "1      eb161b66263589c3f38efd2277cec2a9a81e1ffa0a5255...  ...  198702\n",
              "2      01866857515304e9e1315e54863cc1108e1d46fff0d467...  ...  199109\n",
              "3      63a58b0fee2fa4dc467c043fde465846b65705659497c5...  ...  199401\n",
              "4      b563fb76d3d432d67198f194701ca67e895da4c2f24e8e...  ...  199404\n",
              "...                                                  ...  ...     ...\n",
              "23954  83a634e16d41723f45abb7171d2720b9ec31c0bb7614a5...  ...  201012\n",
              "23955  fcc666cfa3def2e7023eaf1e28f39f0cb357d8cb9ec9f2...  ...  200909\n",
              "23956  4bf846f46e7c0b8547a2e04caf6573976eb621156f3032...  ...  201201\n",
              "23957  bdb499007eb246137859668816eebddde9bfeb3efaec8e...  ...  199712\n",
              "23958  3e5168a7d5ec0efd23f240bd5d9530e4285ff9e661e81c...  ...  200203\n",
              "\n",
              "[23959 rows x 3 columns]"
            ]
          },
          "metadata": {
            "tags": []
          },
          "execution_count": 92
        }
      ]
    },
    {
      "cell_type": "code",
      "metadata": {
        "id": "gTP4eju-XVcD",
        "colab": {
          "base_uri": "https://localhost:8080/",
          "height": 406
        },
        "outputId": "0d45c013-9987-445c-b135-1c8caba954ea"
      },
      "source": [
        "cus"
      ],
      "execution_count": 93,
      "outputs": [
        {
          "output_type": "execute_result",
          "data": {
            "text/html": [
              "<div>\n",
              "<style scoped>\n",
              "    .dataframe tbody tr th:only-of-type {\n",
              "        vertical-align: middle;\n",
              "    }\n",
              "\n",
              "    .dataframe tbody tr th {\n",
              "        vertical-align: top;\n",
              "    }\n",
              "\n",
              "    .dataframe thead th {\n",
              "        text-align: right;\n",
              "    }\n",
              "</style>\n",
              "<table border=\"1\" class=\"dataframe\">\n",
              "  <thead>\n",
              "    <tr style=\"text-align: right;\">\n",
              "      <th></th>\n",
              "      <th>고객번호</th>\n",
              "      <th>성별</th>\n",
              "      <th>연령대</th>\n",
              "      <th>주소(시도)</th>\n",
              "      <th>고객등급</th>\n",
              "      <th>고객투자성향</th>\n",
              "    </tr>\n",
              "  </thead>\n",
              "  <tbody>\n",
              "    <tr>\n",
              "      <th>0</th>\n",
              "      <td>1eec7e43dd6ea34d6be7a9484459e4db1a2da44c5bf311...</td>\n",
              "      <td>2</td>\n",
              "      <td>20</td>\n",
              "      <td>29</td>\n",
              "      <td>04</td>\n",
              "      <td>-</td>\n",
              "    </tr>\n",
              "    <tr>\n",
              "      <th>1</th>\n",
              "      <td>7e50c268acce884b1a5b78c9b5645b517c4639413c6dc4...</td>\n",
              "      <td>2</td>\n",
              "      <td>0</td>\n",
              "      <td>41</td>\n",
              "      <td>09</td>\n",
              "      <td>-</td>\n",
              "    </tr>\n",
              "    <tr>\n",
              "      <th>2</th>\n",
              "      <td>36d3cd293c4b02a00103fa1ba33ffbee176173a55df75b...</td>\n",
              "      <td>1</td>\n",
              "      <td>70</td>\n",
              "      <td>27</td>\n",
              "      <td>03</td>\n",
              "      <td>-</td>\n",
              "    </tr>\n",
              "    <tr>\n",
              "      <th>3</th>\n",
              "      <td>96b6dea03dc71d9ddb1462e06fdba23def1ddc838debf7...</td>\n",
              "      <td>1</td>\n",
              "      <td>70</td>\n",
              "      <td>41</td>\n",
              "      <td>09</td>\n",
              "      <td>-</td>\n",
              "    </tr>\n",
              "    <tr>\n",
              "      <th>4</th>\n",
              "      <td>034eb5406bd021a9a88f046e33765efd5b3cd190b39538...</td>\n",
              "      <td>1</td>\n",
              "      <td>70</td>\n",
              "      <td>11</td>\n",
              "      <td>05</td>\n",
              "      <td>-</td>\n",
              "    </tr>\n",
              "    <tr>\n",
              "      <th>...</th>\n",
              "      <td>...</td>\n",
              "      <td>...</td>\n",
              "      <td>...</td>\n",
              "      <td>...</td>\n",
              "      <td>...</td>\n",
              "      <td>...</td>\n",
              "    </tr>\n",
              "    <tr>\n",
              "      <th>9995</th>\n",
              "      <td>214df7b2a183c8c11b57289537897b7b456d38a222a5ef...</td>\n",
              "      <td>2</td>\n",
              "      <td>35</td>\n",
              "      <td>48</td>\n",
              "      <td>04</td>\n",
              "      <td>03</td>\n",
              "    </tr>\n",
              "    <tr>\n",
              "      <th>9996</th>\n",
              "      <td>4d4e0c6c802058822d61622ae2b3e39471fa2a87152035...</td>\n",
              "      <td>2</td>\n",
              "      <td>35</td>\n",
              "      <td>41</td>\n",
              "      <td>09</td>\n",
              "      <td>-</td>\n",
              "    </tr>\n",
              "    <tr>\n",
              "      <th>9997</th>\n",
              "      <td>347190a59df83bbf2d87888915b95cd5b5c52fb781a45e...</td>\n",
              "      <td>2</td>\n",
              "      <td>35</td>\n",
              "      <td>11</td>\n",
              "      <td>09</td>\n",
              "      <td>-</td>\n",
              "    </tr>\n",
              "    <tr>\n",
              "      <th>9998</th>\n",
              "      <td>3ae218361d32511eec17e92b139f048ec2613ff6d56ac9...</td>\n",
              "      <td>1</td>\n",
              "      <td>35</td>\n",
              "      <td>31</td>\n",
              "      <td>05</td>\n",
              "      <td>-</td>\n",
              "    </tr>\n",
              "    <tr>\n",
              "      <th>9999</th>\n",
              "      <td>7bdea48b84cc322b3ef7d0b934d505afd467e11879571f...</td>\n",
              "      <td>1</td>\n",
              "      <td>35</td>\n",
              "      <td>48</td>\n",
              "      <td>09</td>\n",
              "      <td>-</td>\n",
              "    </tr>\n",
              "  </tbody>\n",
              "</table>\n",
              "<p>10000 rows × 6 columns</p>\n",
              "</div>"
            ],
            "text/plain": [
              "                                                   고객번호  성별  ...  고객등급 고객투자성향\n",
              "0     1eec7e43dd6ea34d6be7a9484459e4db1a2da44c5bf311...   2  ...    04      -\n",
              "1     7e50c268acce884b1a5b78c9b5645b517c4639413c6dc4...   2  ...    09      -\n",
              "2     36d3cd293c4b02a00103fa1ba33ffbee176173a55df75b...   1  ...    03      -\n",
              "3     96b6dea03dc71d9ddb1462e06fdba23def1ddc838debf7...   1  ...    09      -\n",
              "4     034eb5406bd021a9a88f046e33765efd5b3cd190b39538...   1  ...    05      -\n",
              "...                                                 ...  ..  ...   ...    ...\n",
              "9995  214df7b2a183c8c11b57289537897b7b456d38a222a5ef...   2  ...    04     03\n",
              "9996  4d4e0c6c802058822d61622ae2b3e39471fa2a87152035...   2  ...    09      -\n",
              "9997  347190a59df83bbf2d87888915b95cd5b5c52fb781a45e...   2  ...    09      -\n",
              "9998  3ae218361d32511eec17e92b139f048ec2613ff6d56ac9...   1  ...    05      -\n",
              "9999  7bdea48b84cc322b3ef7d0b934d505afd467e11879571f...   1  ...    09      -\n",
              "\n",
              "[10000 rows x 6 columns]"
            ]
          },
          "metadata": {
            "tags": []
          },
          "execution_count": 93
        }
      ]
    },
    {
      "cell_type": "code",
      "metadata": {
        "id": "gRcI74JMXVgm"
      },
      "source": [
        "act_tmp = act.iloc[:,0:2]\r\n",
        "cus_tmp = cus.iloc[:,0:3]"
      ],
      "execution_count": 94,
      "outputs": []
    },
    {
      "cell_type": "code",
      "metadata": {
        "id": "lsv4MSlQXVjL",
        "colab": {
          "base_uri": "https://localhost:8080/",
          "height": 406
        },
        "outputId": "6a7ac84b-9998-49ea-ecc1-953c132e5536"
      },
      "source": [
        "act_tmp"
      ],
      "execution_count": 95,
      "outputs": [
        {
          "output_type": "execute_result",
          "data": {
            "text/html": [
              "<div>\n",
              "<style scoped>\n",
              "    .dataframe tbody tr th:only-of-type {\n",
              "        vertical-align: middle;\n",
              "    }\n",
              "\n",
              "    .dataframe tbody tr th {\n",
              "        vertical-align: top;\n",
              "    }\n",
              "\n",
              "    .dataframe thead th {\n",
              "        text-align: right;\n",
              "    }\n",
              "</style>\n",
              "<table border=\"1\" class=\"dataframe\">\n",
              "  <thead>\n",
              "    <tr style=\"text-align: right;\">\n",
              "      <th></th>\n",
              "      <th>계좌번호</th>\n",
              "      <th>고객번호</th>\n",
              "    </tr>\n",
              "  </thead>\n",
              "  <tbody>\n",
              "    <tr>\n",
              "      <th>0</th>\n",
              "      <td>8e1a987ebef2a3374ba558aeda4c7821de7808a11cfea1...</td>\n",
              "      <td>892f41b5002a79c9c93992acf60682f5698372aea023bd...</td>\n",
              "    </tr>\n",
              "    <tr>\n",
              "      <th>1</th>\n",
              "      <td>eb161b66263589c3f38efd2277cec2a9a81e1ffa0a5255...</td>\n",
              "      <td>006ad32069efb2a8ce1a99542dfe41cb14e8e75685278a...</td>\n",
              "    </tr>\n",
              "    <tr>\n",
              "      <th>2</th>\n",
              "      <td>01866857515304e9e1315e54863cc1108e1d46fff0d467...</td>\n",
              "      <td>1925ed2d8ed2cad53997f5b24722482137c4d1da4b555e...</td>\n",
              "    </tr>\n",
              "    <tr>\n",
              "      <th>3</th>\n",
              "      <td>63a58b0fee2fa4dc467c043fde465846b65705659497c5...</td>\n",
              "      <td>7829365dc463ed8275c8b92518d58b3c8d983f00f7bf87...</td>\n",
              "    </tr>\n",
              "    <tr>\n",
              "      <th>4</th>\n",
              "      <td>b563fb76d3d432d67198f194701ca67e895da4c2f24e8e...</td>\n",
              "      <td>36e05dde058cf7531bd4001ed3b976ef9562a9ecd9f43d...</td>\n",
              "    </tr>\n",
              "    <tr>\n",
              "      <th>...</th>\n",
              "      <td>...</td>\n",
              "      <td>...</td>\n",
              "    </tr>\n",
              "    <tr>\n",
              "      <th>23954</th>\n",
              "      <td>83a634e16d41723f45abb7171d2720b9ec31c0bb7614a5...</td>\n",
              "      <td>f8f5f2a45565e6db2b4c6def8298c9bb865bbee85216d3...</td>\n",
              "    </tr>\n",
              "    <tr>\n",
              "      <th>23955</th>\n",
              "      <td>fcc666cfa3def2e7023eaf1e28f39f0cb357d8cb9ec9f2...</td>\n",
              "      <td>484d70977d68defc52a7b800e098846c04829388217375...</td>\n",
              "    </tr>\n",
              "    <tr>\n",
              "      <th>23956</th>\n",
              "      <td>4bf846f46e7c0b8547a2e04caf6573976eb621156f3032...</td>\n",
              "      <td>0931f895fe62bcdf3918b0ad6271c76d4f1934ff0e36eb...</td>\n",
              "    </tr>\n",
              "    <tr>\n",
              "      <th>23957</th>\n",
              "      <td>bdb499007eb246137859668816eebddde9bfeb3efaec8e...</td>\n",
              "      <td>24653394d720670b49b1146b2793481bdca7aa7a84d11c...</td>\n",
              "    </tr>\n",
              "    <tr>\n",
              "      <th>23958</th>\n",
              "      <td>3e5168a7d5ec0efd23f240bd5d9530e4285ff9e661e81c...</td>\n",
              "      <td>de85269c18672536604fd60cb06a616ab9dab4dafb804c...</td>\n",
              "    </tr>\n",
              "  </tbody>\n",
              "</table>\n",
              "<p>23959 rows × 2 columns</p>\n",
              "</div>"
            ],
            "text/plain": [
              "                                                    계좌번호                                               고객번호\n",
              "0      8e1a987ebef2a3374ba558aeda4c7821de7808a11cfea1...  892f41b5002a79c9c93992acf60682f5698372aea023bd...\n",
              "1      eb161b66263589c3f38efd2277cec2a9a81e1ffa0a5255...  006ad32069efb2a8ce1a99542dfe41cb14e8e75685278a...\n",
              "2      01866857515304e9e1315e54863cc1108e1d46fff0d467...  1925ed2d8ed2cad53997f5b24722482137c4d1da4b555e...\n",
              "3      63a58b0fee2fa4dc467c043fde465846b65705659497c5...  7829365dc463ed8275c8b92518d58b3c8d983f00f7bf87...\n",
              "4      b563fb76d3d432d67198f194701ca67e895da4c2f24e8e...  36e05dde058cf7531bd4001ed3b976ef9562a9ecd9f43d...\n",
              "...                                                  ...                                                ...\n",
              "23954  83a634e16d41723f45abb7171d2720b9ec31c0bb7614a5...  f8f5f2a45565e6db2b4c6def8298c9bb865bbee85216d3...\n",
              "23955  fcc666cfa3def2e7023eaf1e28f39f0cb357d8cb9ec9f2...  484d70977d68defc52a7b800e098846c04829388217375...\n",
              "23956  4bf846f46e7c0b8547a2e04caf6573976eb621156f3032...  0931f895fe62bcdf3918b0ad6271c76d4f1934ff0e36eb...\n",
              "23957  bdb499007eb246137859668816eebddde9bfeb3efaec8e...  24653394d720670b49b1146b2793481bdca7aa7a84d11c...\n",
              "23958  3e5168a7d5ec0efd23f240bd5d9530e4285ff9e661e81c...  de85269c18672536604fd60cb06a616ab9dab4dafb804c...\n",
              "\n",
              "[23959 rows x 2 columns]"
            ]
          },
          "metadata": {
            "tags": []
          },
          "execution_count": 95
        }
      ]
    },
    {
      "cell_type": "code",
      "metadata": {
        "id": "4aZyayOTXnGw",
        "colab": {
          "base_uri": "https://localhost:8080/",
          "height": 406
        },
        "outputId": "0d2cb44d-b8b6-49a4-dbf3-c70d4ce14b09"
      },
      "source": [
        "cus_tmp"
      ],
      "execution_count": 96,
      "outputs": [
        {
          "output_type": "execute_result",
          "data": {
            "text/html": [
              "<div>\n",
              "<style scoped>\n",
              "    .dataframe tbody tr th:only-of-type {\n",
              "        vertical-align: middle;\n",
              "    }\n",
              "\n",
              "    .dataframe tbody tr th {\n",
              "        vertical-align: top;\n",
              "    }\n",
              "\n",
              "    .dataframe thead th {\n",
              "        text-align: right;\n",
              "    }\n",
              "</style>\n",
              "<table border=\"1\" class=\"dataframe\">\n",
              "  <thead>\n",
              "    <tr style=\"text-align: right;\">\n",
              "      <th></th>\n",
              "      <th>고객번호</th>\n",
              "      <th>성별</th>\n",
              "      <th>연령대</th>\n",
              "    </tr>\n",
              "  </thead>\n",
              "  <tbody>\n",
              "    <tr>\n",
              "      <th>0</th>\n",
              "      <td>1eec7e43dd6ea34d6be7a9484459e4db1a2da44c5bf311...</td>\n",
              "      <td>2</td>\n",
              "      <td>20</td>\n",
              "    </tr>\n",
              "    <tr>\n",
              "      <th>1</th>\n",
              "      <td>7e50c268acce884b1a5b78c9b5645b517c4639413c6dc4...</td>\n",
              "      <td>2</td>\n",
              "      <td>0</td>\n",
              "    </tr>\n",
              "    <tr>\n",
              "      <th>2</th>\n",
              "      <td>36d3cd293c4b02a00103fa1ba33ffbee176173a55df75b...</td>\n",
              "      <td>1</td>\n",
              "      <td>70</td>\n",
              "    </tr>\n",
              "    <tr>\n",
              "      <th>3</th>\n",
              "      <td>96b6dea03dc71d9ddb1462e06fdba23def1ddc838debf7...</td>\n",
              "      <td>1</td>\n",
              "      <td>70</td>\n",
              "    </tr>\n",
              "    <tr>\n",
              "      <th>4</th>\n",
              "      <td>034eb5406bd021a9a88f046e33765efd5b3cd190b39538...</td>\n",
              "      <td>1</td>\n",
              "      <td>70</td>\n",
              "    </tr>\n",
              "    <tr>\n",
              "      <th>...</th>\n",
              "      <td>...</td>\n",
              "      <td>...</td>\n",
              "      <td>...</td>\n",
              "    </tr>\n",
              "    <tr>\n",
              "      <th>9995</th>\n",
              "      <td>214df7b2a183c8c11b57289537897b7b456d38a222a5ef...</td>\n",
              "      <td>2</td>\n",
              "      <td>35</td>\n",
              "    </tr>\n",
              "    <tr>\n",
              "      <th>9996</th>\n",
              "      <td>4d4e0c6c802058822d61622ae2b3e39471fa2a87152035...</td>\n",
              "      <td>2</td>\n",
              "      <td>35</td>\n",
              "    </tr>\n",
              "    <tr>\n",
              "      <th>9997</th>\n",
              "      <td>347190a59df83bbf2d87888915b95cd5b5c52fb781a45e...</td>\n",
              "      <td>2</td>\n",
              "      <td>35</td>\n",
              "    </tr>\n",
              "    <tr>\n",
              "      <th>9998</th>\n",
              "      <td>3ae218361d32511eec17e92b139f048ec2613ff6d56ac9...</td>\n",
              "      <td>1</td>\n",
              "      <td>35</td>\n",
              "    </tr>\n",
              "    <tr>\n",
              "      <th>9999</th>\n",
              "      <td>7bdea48b84cc322b3ef7d0b934d505afd467e11879571f...</td>\n",
              "      <td>1</td>\n",
              "      <td>35</td>\n",
              "    </tr>\n",
              "  </tbody>\n",
              "</table>\n",
              "<p>10000 rows × 3 columns</p>\n",
              "</div>"
            ],
            "text/plain": [
              "                                                   고객번호  성별  연령대\n",
              "0     1eec7e43dd6ea34d6be7a9484459e4db1a2da44c5bf311...   2   20\n",
              "1     7e50c268acce884b1a5b78c9b5645b517c4639413c6dc4...   2    0\n",
              "2     36d3cd293c4b02a00103fa1ba33ffbee176173a55df75b...   1   70\n",
              "3     96b6dea03dc71d9ddb1462e06fdba23def1ddc838debf7...   1   70\n",
              "4     034eb5406bd021a9a88f046e33765efd5b3cd190b39538...   1   70\n",
              "...                                                 ...  ..  ...\n",
              "9995  214df7b2a183c8c11b57289537897b7b456d38a222a5ef...   2   35\n",
              "9996  4d4e0c6c802058822d61622ae2b3e39471fa2a87152035...   2   35\n",
              "9997  347190a59df83bbf2d87888915b95cd5b5c52fb781a45e...   2   35\n",
              "9998  3ae218361d32511eec17e92b139f048ec2613ff6d56ac9...   1   35\n",
              "9999  7bdea48b84cc322b3ef7d0b934d505afd467e11879571f...   1   35\n",
              "\n",
              "[10000 rows x 3 columns]"
            ]
          },
          "metadata": {
            "tags": []
          },
          "execution_count": 96
        }
      ]
    },
    {
      "cell_type": "code",
      "metadata": {
        "id": "wjQW7Y4QYIAw"
      },
      "source": [
        "result = pd.merge(act_tmp, cus_tmp, on = '고객번호', how='right')"
      ],
      "execution_count": 97,
      "outputs": []
    },
    {
      "cell_type": "code",
      "metadata": {
        "id": "bixjerFJYIE1",
        "colab": {
          "base_uri": "https://localhost:8080/",
          "height": 406
        },
        "outputId": "eec9a315-c195-46af-eb75-ec14368bbf9a"
      },
      "source": [
        "result"
      ],
      "execution_count": 98,
      "outputs": [
        {
          "output_type": "execute_result",
          "data": {
            "text/html": [
              "<div>\n",
              "<style scoped>\n",
              "    .dataframe tbody tr th:only-of-type {\n",
              "        vertical-align: middle;\n",
              "    }\n",
              "\n",
              "    .dataframe tbody tr th {\n",
              "        vertical-align: top;\n",
              "    }\n",
              "\n",
              "    .dataframe thead th {\n",
              "        text-align: right;\n",
              "    }\n",
              "</style>\n",
              "<table border=\"1\" class=\"dataframe\">\n",
              "  <thead>\n",
              "    <tr style=\"text-align: right;\">\n",
              "      <th></th>\n",
              "      <th>계좌번호</th>\n",
              "      <th>고객번호</th>\n",
              "      <th>성별</th>\n",
              "      <th>연령대</th>\n",
              "    </tr>\n",
              "  </thead>\n",
              "  <tbody>\n",
              "    <tr>\n",
              "      <th>0</th>\n",
              "      <td>fe689fbddf2bb32c1489d66f0ba0ef5da9478b82e7f56c...</td>\n",
              "      <td>1eec7e43dd6ea34d6be7a9484459e4db1a2da44c5bf311...</td>\n",
              "      <td>2</td>\n",
              "      <td>20</td>\n",
              "    </tr>\n",
              "    <tr>\n",
              "      <th>1</th>\n",
              "      <td>28e8c3cd0299c7436f44eb9f140960e969907f144d3c0d...</td>\n",
              "      <td>7e50c268acce884b1a5b78c9b5645b517c4639413c6dc4...</td>\n",
              "      <td>2</td>\n",
              "      <td>0</td>\n",
              "    </tr>\n",
              "    <tr>\n",
              "      <th>2</th>\n",
              "      <td>acb3a3e48fc80ebe89447b2bf29e79df801ef4881bad92...</td>\n",
              "      <td>36d3cd293c4b02a00103fa1ba33ffbee176173a55df75b...</td>\n",
              "      <td>1</td>\n",
              "      <td>70</td>\n",
              "    </tr>\n",
              "    <tr>\n",
              "      <th>3</th>\n",
              "      <td>8d5b316001d9c7d04c36ff37554111fa12196943d4e78b...</td>\n",
              "      <td>36d3cd293c4b02a00103fa1ba33ffbee176173a55df75b...</td>\n",
              "      <td>1</td>\n",
              "      <td>70</td>\n",
              "    </tr>\n",
              "    <tr>\n",
              "      <th>4</th>\n",
              "      <td>3ef2a4cfe5420010436ad7fe9513ef39631621c4092454...</td>\n",
              "      <td>36d3cd293c4b02a00103fa1ba33ffbee176173a55df75b...</td>\n",
              "      <td>1</td>\n",
              "      <td>70</td>\n",
              "    </tr>\n",
              "    <tr>\n",
              "      <th>...</th>\n",
              "      <td>...</td>\n",
              "      <td>...</td>\n",
              "      <td>...</td>\n",
              "      <td>...</td>\n",
              "    </tr>\n",
              "    <tr>\n",
              "      <th>23954</th>\n",
              "      <td>530858638ae97f3eae6ba84318790ec8abbced1c3b9bc4...</td>\n",
              "      <td>347190a59df83bbf2d87888915b95cd5b5c52fb781a45e...</td>\n",
              "      <td>2</td>\n",
              "      <td>35</td>\n",
              "    </tr>\n",
              "    <tr>\n",
              "      <th>23955</th>\n",
              "      <td>6e76f7efd3e36a7b1d679417a14c413455a88bafdebc3c...</td>\n",
              "      <td>347190a59df83bbf2d87888915b95cd5b5c52fb781a45e...</td>\n",
              "      <td>2</td>\n",
              "      <td>35</td>\n",
              "    </tr>\n",
              "    <tr>\n",
              "      <th>23956</th>\n",
              "      <td>21f135109922a4393eaa622c5e40be9f75ef5073e7606a...</td>\n",
              "      <td>3ae218361d32511eec17e92b139f048ec2613ff6d56ac9...</td>\n",
              "      <td>1</td>\n",
              "      <td>35</td>\n",
              "    </tr>\n",
              "    <tr>\n",
              "      <th>23957</th>\n",
              "      <td>de5d6391de5e44d106fbbcd71343f071705bb92c4da923...</td>\n",
              "      <td>3ae218361d32511eec17e92b139f048ec2613ff6d56ac9...</td>\n",
              "      <td>1</td>\n",
              "      <td>35</td>\n",
              "    </tr>\n",
              "    <tr>\n",
              "      <th>23958</th>\n",
              "      <td>4194884a17658d1bffe661a2b270032f0219d37630f8a9...</td>\n",
              "      <td>7bdea48b84cc322b3ef7d0b934d505afd467e11879571f...</td>\n",
              "      <td>1</td>\n",
              "      <td>35</td>\n",
              "    </tr>\n",
              "  </tbody>\n",
              "</table>\n",
              "<p>23959 rows × 4 columns</p>\n",
              "</div>"
            ],
            "text/plain": [
              "                                                    계좌번호  ... 연령대\n",
              "0      fe689fbddf2bb32c1489d66f0ba0ef5da9478b82e7f56c...  ...  20\n",
              "1      28e8c3cd0299c7436f44eb9f140960e969907f144d3c0d...  ...   0\n",
              "2      acb3a3e48fc80ebe89447b2bf29e79df801ef4881bad92...  ...  70\n",
              "3      8d5b316001d9c7d04c36ff37554111fa12196943d4e78b...  ...  70\n",
              "4      3ef2a4cfe5420010436ad7fe9513ef39631621c4092454...  ...  70\n",
              "...                                                  ...  ...  ..\n",
              "23954  530858638ae97f3eae6ba84318790ec8abbced1c3b9bc4...  ...  35\n",
              "23955  6e76f7efd3e36a7b1d679417a14c413455a88bafdebc3c...  ...  35\n",
              "23956  21f135109922a4393eaa622c5e40be9f75ef5073e7606a...  ...  35\n",
              "23957  de5d6391de5e44d106fbbcd71343f071705bb92c4da923...  ...  35\n",
              "23958  4194884a17658d1bffe661a2b270032f0219d37630f8a9...  ...  35\n",
              "\n",
              "[23959 rows x 4 columns]"
            ]
          },
          "metadata": {
            "tags": []
          },
          "execution_count": 98
        }
      ]
    },
    {
      "cell_type": "code",
      "metadata": {
        "id": "brVDqANHYIHe",
        "colab": {
          "base_uri": "https://localhost:8080/",
          "height": 406
        },
        "outputId": "99e72b6d-3b30-4b1f-8e0a-08feaacd0045"
      },
      "source": [
        "trd_oss"
      ],
      "execution_count": 99,
      "outputs": [
        {
          "output_type": "execute_result",
          "data": {
            "text/html": [
              "<div>\n",
              "<style scoped>\n",
              "    .dataframe tbody tr th:only-of-type {\n",
              "        vertical-align: middle;\n",
              "    }\n",
              "\n",
              "    .dataframe tbody tr th {\n",
              "        vertical-align: top;\n",
              "    }\n",
              "\n",
              "    .dataframe thead th {\n",
              "        text-align: right;\n",
              "    }\n",
              "</style>\n",
              "<table border=\"1\" class=\"dataframe\">\n",
              "  <thead>\n",
              "    <tr style=\"text-align: right;\">\n",
              "      <th></th>\n",
              "      <th>계좌번호</th>\n",
              "      <th>주문날짜</th>\n",
              "      <th>주문순서</th>\n",
              "      <th>주문접수시간대</th>\n",
              "      <th>최종체결시간대</th>\n",
              "      <th>종목코드</th>\n",
              "      <th>매매구분코드</th>\n",
              "      <th>체결수량</th>\n",
              "      <th>체결가격</th>\n",
              "      <th>주문매체구분코드</th>\n",
              "      <th>거래통화코드</th>\n",
              "      <th>거래통화환율</th>\n",
              "    </tr>\n",
              "  </thead>\n",
              "  <tbody>\n",
              "    <tr>\n",
              "      <th>0</th>\n",
              "      <td>12c2bf5b4929fa3cb8b8aa7b45c0d000f7e3b868621b5b...</td>\n",
              "      <td>20190102</td>\n",
              "      <td>1</td>\n",
              "      <td>14</td>\n",
              "      <td>14</td>\n",
              "      <td>CNE100001526</td>\n",
              "      <td>2</td>\n",
              "      <td>100.0</td>\n",
              "      <td>49.1500</td>\n",
              "      <td>3</td>\n",
              "      <td>CNY</td>\n",
              "      <td>162.55</td>\n",
              "    </tr>\n",
              "    <tr>\n",
              "      <th>1</th>\n",
              "      <td>f51b1d8b13186e30aee7a407e235eb87b6b84ed85ca7a4...</td>\n",
              "      <td>20190102</td>\n",
              "      <td>1</td>\n",
              "      <td>1</td>\n",
              "      <td>1</td>\n",
              "      <td>US0378331005</td>\n",
              "      <td>2</td>\n",
              "      <td>10.0</td>\n",
              "      <td>157.6000</td>\n",
              "      <td>3</td>\n",
              "      <td>USD</td>\n",
              "      <td>1118.10</td>\n",
              "    </tr>\n",
              "    <tr>\n",
              "      <th>2</th>\n",
              "      <td>f51b1d8b13186e30aee7a407e235eb87b6b84ed85ca7a4...</td>\n",
              "      <td>20190102</td>\n",
              "      <td>2</td>\n",
              "      <td>1</td>\n",
              "      <td>1</td>\n",
              "      <td>US7561091049</td>\n",
              "      <td>2</td>\n",
              "      <td>2.0</td>\n",
              "      <td>61.9399</td>\n",
              "      <td>3</td>\n",
              "      <td>USD</td>\n",
              "      <td>1118.10</td>\n",
              "    </tr>\n",
              "    <tr>\n",
              "      <th>3</th>\n",
              "      <td>37bc7b62e55f0cf8402a1f86dc8d09b09a3028bb13afa6...</td>\n",
              "      <td>20190103</td>\n",
              "      <td>1</td>\n",
              "      <td>2</td>\n",
              "      <td>3</td>\n",
              "      <td>US9229083632</td>\n",
              "      <td>2</td>\n",
              "      <td>3.0</td>\n",
              "      <td>225.0000</td>\n",
              "      <td>3</td>\n",
              "      <td>USD</td>\n",
              "      <td>1119.00</td>\n",
              "    </tr>\n",
              "    <tr>\n",
              "      <th>4</th>\n",
              "      <td>e340482168a2154b323ec2b9a0d003d840590ddafb0e2b...</td>\n",
              "      <td>20190103</td>\n",
              "      <td>1</td>\n",
              "      <td>0</td>\n",
              "      <td>0</td>\n",
              "      <td>US74347X8314</td>\n",
              "      <td>1</td>\n",
              "      <td>6.0</td>\n",
              "      <td>34.5000</td>\n",
              "      <td>3</td>\n",
              "      <td>USD</td>\n",
              "      <td>1119.00</td>\n",
              "    </tr>\n",
              "    <tr>\n",
              "      <th>...</th>\n",
              "      <td>...</td>\n",
              "      <td>...</td>\n",
              "      <td>...</td>\n",
              "      <td>...</td>\n",
              "      <td>...</td>\n",
              "      <td>...</td>\n",
              "      <td>...</td>\n",
              "      <td>...</td>\n",
              "      <td>...</td>\n",
              "      <td>...</td>\n",
              "      <td>...</td>\n",
              "      <td>...</td>\n",
              "    </tr>\n",
              "    <tr>\n",
              "      <th>29296</th>\n",
              "      <td>3f17959c32c50ee64012a5344fb3e6b1ba038963b89ca8...</td>\n",
              "      <td>20200630</td>\n",
              "      <td>1</td>\n",
              "      <td>1</td>\n",
              "      <td>1</td>\n",
              "      <td>US88160R1014</td>\n",
              "      <td>1</td>\n",
              "      <td>2.0</td>\n",
              "      <td>1080.8800</td>\n",
              "      <td>3</td>\n",
              "      <td>USD</td>\n",
              "      <td>1200.70</td>\n",
              "    </tr>\n",
              "    <tr>\n",
              "      <th>29297</th>\n",
              "      <td>3f17959c32c50ee64012a5344fb3e6b1ba038963b89ca8...</td>\n",
              "      <td>20200630</td>\n",
              "      <td>2</td>\n",
              "      <td>1</td>\n",
              "      <td>1</td>\n",
              "      <td>US88160R1014</td>\n",
              "      <td>2</td>\n",
              "      <td>1.0</td>\n",
              "      <td>1080.0000</td>\n",
              "      <td>3</td>\n",
              "      <td>USD</td>\n",
              "      <td>1200.70</td>\n",
              "    </tr>\n",
              "    <tr>\n",
              "      <th>29298</th>\n",
              "      <td>3f17959c32c50ee64012a5344fb3e6b1ba038963b89ca8...</td>\n",
              "      <td>20200630</td>\n",
              "      <td>3</td>\n",
              "      <td>3</td>\n",
              "      <td>3</td>\n",
              "      <td>US88160R1014</td>\n",
              "      <td>2</td>\n",
              "      <td>1.0</td>\n",
              "      <td>1083.0000</td>\n",
              "      <td>3</td>\n",
              "      <td>USD</td>\n",
              "      <td>1200.70</td>\n",
              "    </tr>\n",
              "    <tr>\n",
              "      <th>29299</th>\n",
              "      <td>3f17959c32c50ee64012a5344fb3e6b1ba038963b89ca8...</td>\n",
              "      <td>20200630</td>\n",
              "      <td>4</td>\n",
              "      <td>23</td>\n",
              "      <td>23</td>\n",
              "      <td>US88160R1014</td>\n",
              "      <td>1</td>\n",
              "      <td>2.0</td>\n",
              "      <td>1040.5600</td>\n",
              "      <td>3</td>\n",
              "      <td>USD</td>\n",
              "      <td>1200.70</td>\n",
              "    </tr>\n",
              "    <tr>\n",
              "      <th>29300</th>\n",
              "      <td>df6a314d9ef943cdb66a308a37362c492d2b8ecdfcec82...</td>\n",
              "      <td>20200630</td>\n",
              "      <td>1</td>\n",
              "      <td>23</td>\n",
              "      <td>2</td>\n",
              "      <td>US4510332038</td>\n",
              "      <td>2</td>\n",
              "      <td>100.0</td>\n",
              "      <td>2.1500</td>\n",
              "      <td>3</td>\n",
              "      <td>USD</td>\n",
              "      <td>1200.70</td>\n",
              "    </tr>\n",
              "  </tbody>\n",
              "</table>\n",
              "<p>29301 rows × 12 columns</p>\n",
              "</div>"
            ],
            "text/plain": [
              "                                                    계좌번호  ...   거래통화환율\n",
              "0      12c2bf5b4929fa3cb8b8aa7b45c0d000f7e3b868621b5b...  ...   162.55\n",
              "1      f51b1d8b13186e30aee7a407e235eb87b6b84ed85ca7a4...  ...  1118.10\n",
              "2      f51b1d8b13186e30aee7a407e235eb87b6b84ed85ca7a4...  ...  1118.10\n",
              "3      37bc7b62e55f0cf8402a1f86dc8d09b09a3028bb13afa6...  ...  1119.00\n",
              "4      e340482168a2154b323ec2b9a0d003d840590ddafb0e2b...  ...  1119.00\n",
              "...                                                  ...  ...      ...\n",
              "29296  3f17959c32c50ee64012a5344fb3e6b1ba038963b89ca8...  ...  1200.70\n",
              "29297  3f17959c32c50ee64012a5344fb3e6b1ba038963b89ca8...  ...  1200.70\n",
              "29298  3f17959c32c50ee64012a5344fb3e6b1ba038963b89ca8...  ...  1200.70\n",
              "29299  3f17959c32c50ee64012a5344fb3e6b1ba038963b89ca8...  ...  1200.70\n",
              "29300  df6a314d9ef943cdb66a308a37362c492d2b8ecdfcec82...  ...  1200.70\n",
              "\n",
              "[29301 rows x 12 columns]"
            ]
          },
          "metadata": {
            "tags": []
          },
          "execution_count": 99
        }
      ]
    },
    {
      "cell_type": "code",
      "metadata": {
        "id": "mpUhkNuQYIJy"
      },
      "source": [
        "mydata = pd.merge(result, trd_oss, on = '계좌번호', how='right')"
      ],
      "execution_count": 100,
      "outputs": []
    },
    {
      "cell_type": "code",
      "metadata": {
        "colab": {
          "base_uri": "https://localhost:8080/",
          "height": 440
        },
        "id": "CNhsk0fjYILy",
        "outputId": "04e9cc54-e289-4d8c-8731-8090eb0b6c87"
      },
      "source": [
        "mydata"
      ],
      "execution_count": 101,
      "outputs": [
        {
          "output_type": "execute_result",
          "data": {
            "text/html": [
              "<div>\n",
              "<style scoped>\n",
              "    .dataframe tbody tr th:only-of-type {\n",
              "        vertical-align: middle;\n",
              "    }\n",
              "\n",
              "    .dataframe tbody tr th {\n",
              "        vertical-align: top;\n",
              "    }\n",
              "\n",
              "    .dataframe thead th {\n",
              "        text-align: right;\n",
              "    }\n",
              "</style>\n",
              "<table border=\"1\" class=\"dataframe\">\n",
              "  <thead>\n",
              "    <tr style=\"text-align: right;\">\n",
              "      <th></th>\n",
              "      <th>계좌번호</th>\n",
              "      <th>고객번호</th>\n",
              "      <th>성별</th>\n",
              "      <th>연령대</th>\n",
              "      <th>주문날짜</th>\n",
              "      <th>주문순서</th>\n",
              "      <th>주문접수시간대</th>\n",
              "      <th>최종체결시간대</th>\n",
              "      <th>종목코드</th>\n",
              "      <th>매매구분코드</th>\n",
              "      <th>체결수량</th>\n",
              "      <th>체결가격</th>\n",
              "      <th>주문매체구분코드</th>\n",
              "      <th>거래통화코드</th>\n",
              "      <th>거래통화환율</th>\n",
              "    </tr>\n",
              "  </thead>\n",
              "  <tbody>\n",
              "    <tr>\n",
              "      <th>0</th>\n",
              "      <td>12c2bf5b4929fa3cb8b8aa7b45c0d000f7e3b868621b5b...</td>\n",
              "      <td>a9f344e5eb3d6dc77ee4ba02e1bb2ae45a605cec70dafa...</td>\n",
              "      <td>1</td>\n",
              "      <td>30</td>\n",
              "      <td>20190102</td>\n",
              "      <td>1</td>\n",
              "      <td>14</td>\n",
              "      <td>14</td>\n",
              "      <td>CNE100001526</td>\n",
              "      <td>2</td>\n",
              "      <td>100.0</td>\n",
              "      <td>49.1500</td>\n",
              "      <td>3</td>\n",
              "      <td>CNY</td>\n",
              "      <td>162.55</td>\n",
              "    </tr>\n",
              "    <tr>\n",
              "      <th>1</th>\n",
              "      <td>12c2bf5b4929fa3cb8b8aa7b45c0d000f7e3b868621b5b...</td>\n",
              "      <td>a9f344e5eb3d6dc77ee4ba02e1bb2ae45a605cec70dafa...</td>\n",
              "      <td>1</td>\n",
              "      <td>30</td>\n",
              "      <td>20190214</td>\n",
              "      <td>1</td>\n",
              "      <td>11</td>\n",
              "      <td>11</td>\n",
              "      <td>CNE100001526</td>\n",
              "      <td>1</td>\n",
              "      <td>1000.0</td>\n",
              "      <td>52.7000</td>\n",
              "      <td>3</td>\n",
              "      <td>CNY</td>\n",
              "      <td>165.92</td>\n",
              "    </tr>\n",
              "    <tr>\n",
              "      <th>2</th>\n",
              "      <td>12c2bf5b4929fa3cb8b8aa7b45c0d000f7e3b868621b5b...</td>\n",
              "      <td>a9f344e5eb3d6dc77ee4ba02e1bb2ae45a605cec70dafa...</td>\n",
              "      <td>1</td>\n",
              "      <td>30</td>\n",
              "      <td>20190214</td>\n",
              "      <td>2</td>\n",
              "      <td>11</td>\n",
              "      <td>11</td>\n",
              "      <td>CNE100001526</td>\n",
              "      <td>1</td>\n",
              "      <td>1000.0</td>\n",
              "      <td>52.7000</td>\n",
              "      <td>3</td>\n",
              "      <td>CNY</td>\n",
              "      <td>165.92</td>\n",
              "    </tr>\n",
              "    <tr>\n",
              "      <th>3</th>\n",
              "      <td>12c2bf5b4929fa3cb8b8aa7b45c0d000f7e3b868621b5b...</td>\n",
              "      <td>a9f344e5eb3d6dc77ee4ba02e1bb2ae45a605cec70dafa...</td>\n",
              "      <td>1</td>\n",
              "      <td>30</td>\n",
              "      <td>20190214</td>\n",
              "      <td>3</td>\n",
              "      <td>11</td>\n",
              "      <td>11</td>\n",
              "      <td>CNE100001526</td>\n",
              "      <td>1</td>\n",
              "      <td>100.0</td>\n",
              "      <td>52.7000</td>\n",
              "      <td>3</td>\n",
              "      <td>CNY</td>\n",
              "      <td>165.92</td>\n",
              "    </tr>\n",
              "    <tr>\n",
              "      <th>4</th>\n",
              "      <td>12c2bf5b4929fa3cb8b8aa7b45c0d000f7e3b868621b5b...</td>\n",
              "      <td>a9f344e5eb3d6dc77ee4ba02e1bb2ae45a605cec70dafa...</td>\n",
              "      <td>1</td>\n",
              "      <td>30</td>\n",
              "      <td>20190214</td>\n",
              "      <td>4</td>\n",
              "      <td>11</td>\n",
              "      <td>11</td>\n",
              "      <td>CNE100001526</td>\n",
              "      <td>1</td>\n",
              "      <td>100.0</td>\n",
              "      <td>52.7000</td>\n",
              "      <td>3</td>\n",
              "      <td>CNY</td>\n",
              "      <td>165.92</td>\n",
              "    </tr>\n",
              "    <tr>\n",
              "      <th>...</th>\n",
              "      <td>...</td>\n",
              "      <td>...</td>\n",
              "      <td>...</td>\n",
              "      <td>...</td>\n",
              "      <td>...</td>\n",
              "      <td>...</td>\n",
              "      <td>...</td>\n",
              "      <td>...</td>\n",
              "      <td>...</td>\n",
              "      <td>...</td>\n",
              "      <td>...</td>\n",
              "      <td>...</td>\n",
              "      <td>...</td>\n",
              "      <td>...</td>\n",
              "      <td>...</td>\n",
              "    </tr>\n",
              "    <tr>\n",
              "      <th>29296</th>\n",
              "      <td>d222b80b74e9d5990e136bbf0e682f34d41628139dcdfc...</td>\n",
              "      <td>6103c069e900259181efa244763c30c8df701cbe8e0e00...</td>\n",
              "      <td>1</td>\n",
              "      <td>35</td>\n",
              "      <td>20200630</td>\n",
              "      <td>2</td>\n",
              "      <td>23</td>\n",
              "      <td>23</td>\n",
              "      <td>US5500211090</td>\n",
              "      <td>2</td>\n",
              "      <td>3.0</td>\n",
              "      <td>308.1995</td>\n",
              "      <td>3</td>\n",
              "      <td>USD</td>\n",
              "      <td>1200.70</td>\n",
              "    </tr>\n",
              "    <tr>\n",
              "      <th>29297</th>\n",
              "      <td>d222b80b74e9d5990e136bbf0e682f34d41628139dcdfc...</td>\n",
              "      <td>6103c069e900259181efa244763c30c8df701cbe8e0e00...</td>\n",
              "      <td>1</td>\n",
              "      <td>35</td>\n",
              "      <td>20200630</td>\n",
              "      <td>3</td>\n",
              "      <td>23</td>\n",
              "      <td>23</td>\n",
              "      <td>US30303M1027</td>\n",
              "      <td>2</td>\n",
              "      <td>4.0</td>\n",
              "      <td>219.3000</td>\n",
              "      <td>3</td>\n",
              "      <td>USD</td>\n",
              "      <td>1200.70</td>\n",
              "    </tr>\n",
              "    <tr>\n",
              "      <th>29298</th>\n",
              "      <td>d222b80b74e9d5990e136bbf0e682f34d41628139dcdfc...</td>\n",
              "      <td>6103c069e900259181efa244763c30c8df701cbe8e0e00...</td>\n",
              "      <td>1</td>\n",
              "      <td>35</td>\n",
              "      <td>20200630</td>\n",
              "      <td>4</td>\n",
              "      <td>23</td>\n",
              "      <td>23</td>\n",
              "      <td>US6541061031</td>\n",
              "      <td>2</td>\n",
              "      <td>9.0</td>\n",
              "      <td>96.8000</td>\n",
              "      <td>3</td>\n",
              "      <td>USD</td>\n",
              "      <td>1200.70</td>\n",
              "    </tr>\n",
              "    <tr>\n",
              "      <th>29299</th>\n",
              "      <td>d222b80b74e9d5990e136bbf0e682f34d41628139dcdfc...</td>\n",
              "      <td>6103c069e900259181efa244763c30c8df701cbe8e0e00...</td>\n",
              "      <td>1</td>\n",
              "      <td>35</td>\n",
              "      <td>20200630</td>\n",
              "      <td>5</td>\n",
              "      <td>23</td>\n",
              "      <td>23</td>\n",
              "      <td>US88160R1014</td>\n",
              "      <td>2</td>\n",
              "      <td>1.0</td>\n",
              "      <td>1046.9200</td>\n",
              "      <td>3</td>\n",
              "      <td>USD</td>\n",
              "      <td>1200.70</td>\n",
              "    </tr>\n",
              "    <tr>\n",
              "      <th>29300</th>\n",
              "      <td>e8a9adb5046d7022676f72e81d29ac21e7708933db4e73...</td>\n",
              "      <td>d3fcca90af71db2f3b654e45f8d1e34c56a39ec5f0a89f...</td>\n",
              "      <td>2</td>\n",
              "      <td>30</td>\n",
              "      <td>20200630</td>\n",
              "      <td>1</td>\n",
              "      <td>22</td>\n",
              "      <td>22</td>\n",
              "      <td>US1912161007</td>\n",
              "      <td>2</td>\n",
              "      <td>1.0</td>\n",
              "      <td>44.2500</td>\n",
              "      <td>3</td>\n",
              "      <td>USD</td>\n",
              "      <td>1200.70</td>\n",
              "    </tr>\n",
              "  </tbody>\n",
              "</table>\n",
              "<p>29301 rows × 15 columns</p>\n",
              "</div>"
            ],
            "text/plain": [
              "                                                    계좌번호  ...   거래통화환율\n",
              "0      12c2bf5b4929fa3cb8b8aa7b45c0d000f7e3b868621b5b...  ...   162.55\n",
              "1      12c2bf5b4929fa3cb8b8aa7b45c0d000f7e3b868621b5b...  ...   165.92\n",
              "2      12c2bf5b4929fa3cb8b8aa7b45c0d000f7e3b868621b5b...  ...   165.92\n",
              "3      12c2bf5b4929fa3cb8b8aa7b45c0d000f7e3b868621b5b...  ...   165.92\n",
              "4      12c2bf5b4929fa3cb8b8aa7b45c0d000f7e3b868621b5b...  ...   165.92\n",
              "...                                                  ...  ...      ...\n",
              "29296  d222b80b74e9d5990e136bbf0e682f34d41628139dcdfc...  ...  1200.70\n",
              "29297  d222b80b74e9d5990e136bbf0e682f34d41628139dcdfc...  ...  1200.70\n",
              "29298  d222b80b74e9d5990e136bbf0e682f34d41628139dcdfc...  ...  1200.70\n",
              "29299  d222b80b74e9d5990e136bbf0e682f34d41628139dcdfc...  ...  1200.70\n",
              "29300  e8a9adb5046d7022676f72e81d29ac21e7708933db4e73...  ...  1200.70\n",
              "\n",
              "[29301 rows x 15 columns]"
            ]
          },
          "metadata": {
            "tags": []
          },
          "execution_count": 101
        }
      ]
    },
    {
      "cell_type": "code",
      "metadata": {
        "id": "tu3NIzDnYIOO",
        "colab": {
          "base_uri": "https://localhost:8080/",
          "height": 34
        },
        "outputId": "ef7e71e8-c1e3-4526-bd5d-a3ad14acffc6"
      },
      "source": [
        "'''X = ages[40] + ages[45] + ages[50] + ages[55] + ages[60] + ages[65] + ages[70]\r\n",
        "Y = ages[25] + ages[30] + ages[35]\r\n",
        "Z = ages[0] + ages[20]'''"
      ],
      "execution_count": 102,
      "outputs": [
        {
          "output_type": "execute_result",
          "data": {
            "application/vnd.google.colaboratory.intrinsic+json": {
              "type": "string"
            },
            "text/plain": [
              "'X = ages[40] + ages[45] + ages[50] + ages[55] + ages[60] + ages[65] + ages[70]\\nY = ages[25] + ages[30] + ages[35]\\nZ = ages[0] + ages[20]'"
            ]
          },
          "metadata": {
            "tags": []
          },
          "execution_count": 102
        }
      ]
    },
    {
      "cell_type": "code",
      "metadata": {
        "id": "C0_BGeMNYIQo"
      },
      "source": [
        "mydata['세대'] = ['Y' if mydata['연령대'][i] in [25, 30, 35] else ('Z' if mydata['연령대'][i] in [0, 20] else 'X') for i in range(len(mydata)) ]"
      ],
      "execution_count": 103,
      "outputs": []
    },
    {
      "cell_type": "code",
      "metadata": {
        "colab": {
          "base_uri": "https://localhost:8080/",
          "height": 440
        },
        "id": "LuF2G3Aitdk0",
        "outputId": "d57d4591-e447-48c6-e2a9-abbd40139818"
      },
      "source": [
        "mydata"
      ],
      "execution_count": 104,
      "outputs": [
        {
          "output_type": "execute_result",
          "data": {
            "text/html": [
              "<div>\n",
              "<style scoped>\n",
              "    .dataframe tbody tr th:only-of-type {\n",
              "        vertical-align: middle;\n",
              "    }\n",
              "\n",
              "    .dataframe tbody tr th {\n",
              "        vertical-align: top;\n",
              "    }\n",
              "\n",
              "    .dataframe thead th {\n",
              "        text-align: right;\n",
              "    }\n",
              "</style>\n",
              "<table border=\"1\" class=\"dataframe\">\n",
              "  <thead>\n",
              "    <tr style=\"text-align: right;\">\n",
              "      <th></th>\n",
              "      <th>계좌번호</th>\n",
              "      <th>고객번호</th>\n",
              "      <th>성별</th>\n",
              "      <th>연령대</th>\n",
              "      <th>주문날짜</th>\n",
              "      <th>주문순서</th>\n",
              "      <th>주문접수시간대</th>\n",
              "      <th>최종체결시간대</th>\n",
              "      <th>종목코드</th>\n",
              "      <th>매매구분코드</th>\n",
              "      <th>체결수량</th>\n",
              "      <th>체결가격</th>\n",
              "      <th>주문매체구분코드</th>\n",
              "      <th>거래통화코드</th>\n",
              "      <th>거래통화환율</th>\n",
              "      <th>세대</th>\n",
              "    </tr>\n",
              "  </thead>\n",
              "  <tbody>\n",
              "    <tr>\n",
              "      <th>0</th>\n",
              "      <td>12c2bf5b4929fa3cb8b8aa7b45c0d000f7e3b868621b5b...</td>\n",
              "      <td>a9f344e5eb3d6dc77ee4ba02e1bb2ae45a605cec70dafa...</td>\n",
              "      <td>1</td>\n",
              "      <td>30</td>\n",
              "      <td>20190102</td>\n",
              "      <td>1</td>\n",
              "      <td>14</td>\n",
              "      <td>14</td>\n",
              "      <td>CNE100001526</td>\n",
              "      <td>2</td>\n",
              "      <td>100.0</td>\n",
              "      <td>49.1500</td>\n",
              "      <td>3</td>\n",
              "      <td>CNY</td>\n",
              "      <td>162.55</td>\n",
              "      <td>Y</td>\n",
              "    </tr>\n",
              "    <tr>\n",
              "      <th>1</th>\n",
              "      <td>12c2bf5b4929fa3cb8b8aa7b45c0d000f7e3b868621b5b...</td>\n",
              "      <td>a9f344e5eb3d6dc77ee4ba02e1bb2ae45a605cec70dafa...</td>\n",
              "      <td>1</td>\n",
              "      <td>30</td>\n",
              "      <td>20190214</td>\n",
              "      <td>1</td>\n",
              "      <td>11</td>\n",
              "      <td>11</td>\n",
              "      <td>CNE100001526</td>\n",
              "      <td>1</td>\n",
              "      <td>1000.0</td>\n",
              "      <td>52.7000</td>\n",
              "      <td>3</td>\n",
              "      <td>CNY</td>\n",
              "      <td>165.92</td>\n",
              "      <td>Y</td>\n",
              "    </tr>\n",
              "    <tr>\n",
              "      <th>2</th>\n",
              "      <td>12c2bf5b4929fa3cb8b8aa7b45c0d000f7e3b868621b5b...</td>\n",
              "      <td>a9f344e5eb3d6dc77ee4ba02e1bb2ae45a605cec70dafa...</td>\n",
              "      <td>1</td>\n",
              "      <td>30</td>\n",
              "      <td>20190214</td>\n",
              "      <td>2</td>\n",
              "      <td>11</td>\n",
              "      <td>11</td>\n",
              "      <td>CNE100001526</td>\n",
              "      <td>1</td>\n",
              "      <td>1000.0</td>\n",
              "      <td>52.7000</td>\n",
              "      <td>3</td>\n",
              "      <td>CNY</td>\n",
              "      <td>165.92</td>\n",
              "      <td>Y</td>\n",
              "    </tr>\n",
              "    <tr>\n",
              "      <th>3</th>\n",
              "      <td>12c2bf5b4929fa3cb8b8aa7b45c0d000f7e3b868621b5b...</td>\n",
              "      <td>a9f344e5eb3d6dc77ee4ba02e1bb2ae45a605cec70dafa...</td>\n",
              "      <td>1</td>\n",
              "      <td>30</td>\n",
              "      <td>20190214</td>\n",
              "      <td>3</td>\n",
              "      <td>11</td>\n",
              "      <td>11</td>\n",
              "      <td>CNE100001526</td>\n",
              "      <td>1</td>\n",
              "      <td>100.0</td>\n",
              "      <td>52.7000</td>\n",
              "      <td>3</td>\n",
              "      <td>CNY</td>\n",
              "      <td>165.92</td>\n",
              "      <td>Y</td>\n",
              "    </tr>\n",
              "    <tr>\n",
              "      <th>4</th>\n",
              "      <td>12c2bf5b4929fa3cb8b8aa7b45c0d000f7e3b868621b5b...</td>\n",
              "      <td>a9f344e5eb3d6dc77ee4ba02e1bb2ae45a605cec70dafa...</td>\n",
              "      <td>1</td>\n",
              "      <td>30</td>\n",
              "      <td>20190214</td>\n",
              "      <td>4</td>\n",
              "      <td>11</td>\n",
              "      <td>11</td>\n",
              "      <td>CNE100001526</td>\n",
              "      <td>1</td>\n",
              "      <td>100.0</td>\n",
              "      <td>52.7000</td>\n",
              "      <td>3</td>\n",
              "      <td>CNY</td>\n",
              "      <td>165.92</td>\n",
              "      <td>Y</td>\n",
              "    </tr>\n",
              "    <tr>\n",
              "      <th>...</th>\n",
              "      <td>...</td>\n",
              "      <td>...</td>\n",
              "      <td>...</td>\n",
              "      <td>...</td>\n",
              "      <td>...</td>\n",
              "      <td>...</td>\n",
              "      <td>...</td>\n",
              "      <td>...</td>\n",
              "      <td>...</td>\n",
              "      <td>...</td>\n",
              "      <td>...</td>\n",
              "      <td>...</td>\n",
              "      <td>...</td>\n",
              "      <td>...</td>\n",
              "      <td>...</td>\n",
              "      <td>...</td>\n",
              "    </tr>\n",
              "    <tr>\n",
              "      <th>29296</th>\n",
              "      <td>d222b80b74e9d5990e136bbf0e682f34d41628139dcdfc...</td>\n",
              "      <td>6103c069e900259181efa244763c30c8df701cbe8e0e00...</td>\n",
              "      <td>1</td>\n",
              "      <td>35</td>\n",
              "      <td>20200630</td>\n",
              "      <td>2</td>\n",
              "      <td>23</td>\n",
              "      <td>23</td>\n",
              "      <td>US5500211090</td>\n",
              "      <td>2</td>\n",
              "      <td>3.0</td>\n",
              "      <td>308.1995</td>\n",
              "      <td>3</td>\n",
              "      <td>USD</td>\n",
              "      <td>1200.70</td>\n",
              "      <td>Y</td>\n",
              "    </tr>\n",
              "    <tr>\n",
              "      <th>29297</th>\n",
              "      <td>d222b80b74e9d5990e136bbf0e682f34d41628139dcdfc...</td>\n",
              "      <td>6103c069e900259181efa244763c30c8df701cbe8e0e00...</td>\n",
              "      <td>1</td>\n",
              "      <td>35</td>\n",
              "      <td>20200630</td>\n",
              "      <td>3</td>\n",
              "      <td>23</td>\n",
              "      <td>23</td>\n",
              "      <td>US30303M1027</td>\n",
              "      <td>2</td>\n",
              "      <td>4.0</td>\n",
              "      <td>219.3000</td>\n",
              "      <td>3</td>\n",
              "      <td>USD</td>\n",
              "      <td>1200.70</td>\n",
              "      <td>Y</td>\n",
              "    </tr>\n",
              "    <tr>\n",
              "      <th>29298</th>\n",
              "      <td>d222b80b74e9d5990e136bbf0e682f34d41628139dcdfc...</td>\n",
              "      <td>6103c069e900259181efa244763c30c8df701cbe8e0e00...</td>\n",
              "      <td>1</td>\n",
              "      <td>35</td>\n",
              "      <td>20200630</td>\n",
              "      <td>4</td>\n",
              "      <td>23</td>\n",
              "      <td>23</td>\n",
              "      <td>US6541061031</td>\n",
              "      <td>2</td>\n",
              "      <td>9.0</td>\n",
              "      <td>96.8000</td>\n",
              "      <td>3</td>\n",
              "      <td>USD</td>\n",
              "      <td>1200.70</td>\n",
              "      <td>Y</td>\n",
              "    </tr>\n",
              "    <tr>\n",
              "      <th>29299</th>\n",
              "      <td>d222b80b74e9d5990e136bbf0e682f34d41628139dcdfc...</td>\n",
              "      <td>6103c069e900259181efa244763c30c8df701cbe8e0e00...</td>\n",
              "      <td>1</td>\n",
              "      <td>35</td>\n",
              "      <td>20200630</td>\n",
              "      <td>5</td>\n",
              "      <td>23</td>\n",
              "      <td>23</td>\n",
              "      <td>US88160R1014</td>\n",
              "      <td>2</td>\n",
              "      <td>1.0</td>\n",
              "      <td>1046.9200</td>\n",
              "      <td>3</td>\n",
              "      <td>USD</td>\n",
              "      <td>1200.70</td>\n",
              "      <td>Y</td>\n",
              "    </tr>\n",
              "    <tr>\n",
              "      <th>29300</th>\n",
              "      <td>e8a9adb5046d7022676f72e81d29ac21e7708933db4e73...</td>\n",
              "      <td>d3fcca90af71db2f3b654e45f8d1e34c56a39ec5f0a89f...</td>\n",
              "      <td>2</td>\n",
              "      <td>30</td>\n",
              "      <td>20200630</td>\n",
              "      <td>1</td>\n",
              "      <td>22</td>\n",
              "      <td>22</td>\n",
              "      <td>US1912161007</td>\n",
              "      <td>2</td>\n",
              "      <td>1.0</td>\n",
              "      <td>44.2500</td>\n",
              "      <td>3</td>\n",
              "      <td>USD</td>\n",
              "      <td>1200.70</td>\n",
              "      <td>Y</td>\n",
              "    </tr>\n",
              "  </tbody>\n",
              "</table>\n",
              "<p>29301 rows × 16 columns</p>\n",
              "</div>"
            ],
            "text/plain": [
              "                                                    계좌번호  ... 세대\n",
              "0      12c2bf5b4929fa3cb8b8aa7b45c0d000f7e3b868621b5b...  ...  Y\n",
              "1      12c2bf5b4929fa3cb8b8aa7b45c0d000f7e3b868621b5b...  ...  Y\n",
              "2      12c2bf5b4929fa3cb8b8aa7b45c0d000f7e3b868621b5b...  ...  Y\n",
              "3      12c2bf5b4929fa3cb8b8aa7b45c0d000f7e3b868621b5b...  ...  Y\n",
              "4      12c2bf5b4929fa3cb8b8aa7b45c0d000f7e3b868621b5b...  ...  Y\n",
              "...                                                  ...  ... ..\n",
              "29296  d222b80b74e9d5990e136bbf0e682f34d41628139dcdfc...  ...  Y\n",
              "29297  d222b80b74e9d5990e136bbf0e682f34d41628139dcdfc...  ...  Y\n",
              "29298  d222b80b74e9d5990e136bbf0e682f34d41628139dcdfc...  ...  Y\n",
              "29299  d222b80b74e9d5990e136bbf0e682f34d41628139dcdfc...  ...  Y\n",
              "29300  e8a9adb5046d7022676f72e81d29ac21e7708933db4e73...  ...  Y\n",
              "\n",
              "[29301 rows x 16 columns]"
            ]
          },
          "metadata": {
            "tags": []
          },
          "execution_count": 104
        }
      ]
    },
    {
      "cell_type": "code",
      "metadata": {
        "id": "6htiPHcwtdsB"
      },
      "source": [
        "sell = mydata[mydata['매매구분코드']==1]\r\n",
        "buy = mydata[mydata['매매구분코드']==2]"
      ],
      "execution_count": 105,
      "outputs": []
    },
    {
      "cell_type": "code",
      "metadata": {
        "colab": {
          "base_uri": "https://localhost:8080/"
        },
        "id": "2a49ObX4JT2o",
        "outputId": "1fec3add-0004-4078-ac23-f2f581aa03c1"
      },
      "source": [
        "sell[sell['종목코드']=='CNE100001526']['체결수량'].sum()"
      ],
      "execution_count": 106,
      "outputs": [
        {
          "output_type": "execute_result",
          "data": {
            "text/plain": [
              "17800.0"
            ]
          },
          "metadata": {
            "tags": []
          },
          "execution_count": 106
        }
      ]
    },
    {
      "cell_type": "code",
      "metadata": {
        "colab": {
          "base_uri": "https://localhost:8080/"
        },
        "id": "FizOtXxhJioP",
        "outputId": "97020d41-88fc-490c-d144-643367cc724d"
      },
      "source": [
        "buy[buy['종목코드']=='CNE100001526']['체결수량'].sum()"
      ],
      "execution_count": 107,
      "outputs": [
        {
          "output_type": "execute_result",
          "data": {
            "text/plain": [
              "6500.0"
            ]
          },
          "metadata": {
            "tags": []
          },
          "execution_count": 107
        }
      ]
    },
    {
      "cell_type": "code",
      "metadata": {
        "id": "-Dq0Jt8ltWOF"
      },
      "source": [
        "YZ = mydata[mydata['세대'].isin(['Y','Z'])]"
      ],
      "execution_count": 108,
      "outputs": []
    },
    {
      "cell_type": "code",
      "metadata": {
        "colab": {
          "base_uri": "https://localhost:8080/"
        },
        "id": "CDZZmr9zOhH0",
        "outputId": "820d67c0-a66e-45d5-94e9-60edcb25f2d4"
      },
      "source": [
        "YZ['매매구분코드'].value_counts()"
      ],
      "execution_count": 109,
      "outputs": [
        {
          "output_type": "execute_result",
          "data": {
            "text/plain": [
              "2    10844\n",
              "1     3935\n",
              "Name: 매매구분코드, dtype: int64"
            ]
          },
          "metadata": {
            "tags": []
          },
          "execution_count": 109
        }
      ]
    },
    {
      "cell_type": "code",
      "metadata": {
        "colab": {
          "base_uri": "https://localhost:8080/"
        },
        "id": "Z2fN_pxSOhzo",
        "outputId": "e05f405b-d242-4cfb-bca1-46ee672ed6a2"
      },
      "source": [
        "#trd_oss['주문매체구분코드'].value_counts()"
      ],
      "execution_count": 113,
      "outputs": [
        {
          "output_type": "execute_result",
          "data": {
            "text/plain": [
              "3    26489\n",
              "1     1991\n",
              "4      821\n",
              "Name: 주문매체구분코드, dtype: int64"
            ]
          },
          "metadata": {
            "tags": []
          },
          "execution_count": 113
        }
      ]
    },
    {
      "cell_type": "code",
      "metadata": {
        "colab": {
          "base_uri": "https://localhost:8080/",
          "height": 406
        },
        "id": "955IqiJuO-16",
        "outputId": "6485a181-bbe2-4add-ead6-99aa01449424"
      },
      "source": [
        "trd_oss"
      ],
      "execution_count": 114,
      "outputs": [
        {
          "output_type": "execute_result",
          "data": {
            "text/html": [
              "<div>\n",
              "<style scoped>\n",
              "    .dataframe tbody tr th:only-of-type {\n",
              "        vertical-align: middle;\n",
              "    }\n",
              "\n",
              "    .dataframe tbody tr th {\n",
              "        vertical-align: top;\n",
              "    }\n",
              "\n",
              "    .dataframe thead th {\n",
              "        text-align: right;\n",
              "    }\n",
              "</style>\n",
              "<table border=\"1\" class=\"dataframe\">\n",
              "  <thead>\n",
              "    <tr style=\"text-align: right;\">\n",
              "      <th></th>\n",
              "      <th>계좌번호</th>\n",
              "      <th>주문날짜</th>\n",
              "      <th>주문순서</th>\n",
              "      <th>주문접수시간대</th>\n",
              "      <th>최종체결시간대</th>\n",
              "      <th>종목코드</th>\n",
              "      <th>매매구분코드</th>\n",
              "      <th>체결수량</th>\n",
              "      <th>체결가격</th>\n",
              "      <th>주문매체구분코드</th>\n",
              "      <th>거래통화코드</th>\n",
              "      <th>거래통화환율</th>\n",
              "    </tr>\n",
              "  </thead>\n",
              "  <tbody>\n",
              "    <tr>\n",
              "      <th>0</th>\n",
              "      <td>12c2bf5b4929fa3cb8b8aa7b45c0d000f7e3b868621b5b...</td>\n",
              "      <td>20190102</td>\n",
              "      <td>1</td>\n",
              "      <td>14</td>\n",
              "      <td>14</td>\n",
              "      <td>CNE100001526</td>\n",
              "      <td>2</td>\n",
              "      <td>100.0</td>\n",
              "      <td>49.1500</td>\n",
              "      <td>3</td>\n",
              "      <td>CNY</td>\n",
              "      <td>162.55</td>\n",
              "    </tr>\n",
              "    <tr>\n",
              "      <th>1</th>\n",
              "      <td>f51b1d8b13186e30aee7a407e235eb87b6b84ed85ca7a4...</td>\n",
              "      <td>20190102</td>\n",
              "      <td>1</td>\n",
              "      <td>1</td>\n",
              "      <td>1</td>\n",
              "      <td>US0378331005</td>\n",
              "      <td>2</td>\n",
              "      <td>10.0</td>\n",
              "      <td>157.6000</td>\n",
              "      <td>3</td>\n",
              "      <td>USD</td>\n",
              "      <td>1118.10</td>\n",
              "    </tr>\n",
              "    <tr>\n",
              "      <th>2</th>\n",
              "      <td>f51b1d8b13186e30aee7a407e235eb87b6b84ed85ca7a4...</td>\n",
              "      <td>20190102</td>\n",
              "      <td>2</td>\n",
              "      <td>1</td>\n",
              "      <td>1</td>\n",
              "      <td>US7561091049</td>\n",
              "      <td>2</td>\n",
              "      <td>2.0</td>\n",
              "      <td>61.9399</td>\n",
              "      <td>3</td>\n",
              "      <td>USD</td>\n",
              "      <td>1118.10</td>\n",
              "    </tr>\n",
              "    <tr>\n",
              "      <th>3</th>\n",
              "      <td>37bc7b62e55f0cf8402a1f86dc8d09b09a3028bb13afa6...</td>\n",
              "      <td>20190103</td>\n",
              "      <td>1</td>\n",
              "      <td>2</td>\n",
              "      <td>3</td>\n",
              "      <td>US9229083632</td>\n",
              "      <td>2</td>\n",
              "      <td>3.0</td>\n",
              "      <td>225.0000</td>\n",
              "      <td>3</td>\n",
              "      <td>USD</td>\n",
              "      <td>1119.00</td>\n",
              "    </tr>\n",
              "    <tr>\n",
              "      <th>4</th>\n",
              "      <td>e340482168a2154b323ec2b9a0d003d840590ddafb0e2b...</td>\n",
              "      <td>20190103</td>\n",
              "      <td>1</td>\n",
              "      <td>0</td>\n",
              "      <td>0</td>\n",
              "      <td>US74347X8314</td>\n",
              "      <td>1</td>\n",
              "      <td>6.0</td>\n",
              "      <td>34.5000</td>\n",
              "      <td>3</td>\n",
              "      <td>USD</td>\n",
              "      <td>1119.00</td>\n",
              "    </tr>\n",
              "    <tr>\n",
              "      <th>...</th>\n",
              "      <td>...</td>\n",
              "      <td>...</td>\n",
              "      <td>...</td>\n",
              "      <td>...</td>\n",
              "      <td>...</td>\n",
              "      <td>...</td>\n",
              "      <td>...</td>\n",
              "      <td>...</td>\n",
              "      <td>...</td>\n",
              "      <td>...</td>\n",
              "      <td>...</td>\n",
              "      <td>...</td>\n",
              "    </tr>\n",
              "    <tr>\n",
              "      <th>29296</th>\n",
              "      <td>3f17959c32c50ee64012a5344fb3e6b1ba038963b89ca8...</td>\n",
              "      <td>20200630</td>\n",
              "      <td>1</td>\n",
              "      <td>1</td>\n",
              "      <td>1</td>\n",
              "      <td>US88160R1014</td>\n",
              "      <td>1</td>\n",
              "      <td>2.0</td>\n",
              "      <td>1080.8800</td>\n",
              "      <td>3</td>\n",
              "      <td>USD</td>\n",
              "      <td>1200.70</td>\n",
              "    </tr>\n",
              "    <tr>\n",
              "      <th>29297</th>\n",
              "      <td>3f17959c32c50ee64012a5344fb3e6b1ba038963b89ca8...</td>\n",
              "      <td>20200630</td>\n",
              "      <td>2</td>\n",
              "      <td>1</td>\n",
              "      <td>1</td>\n",
              "      <td>US88160R1014</td>\n",
              "      <td>2</td>\n",
              "      <td>1.0</td>\n",
              "      <td>1080.0000</td>\n",
              "      <td>3</td>\n",
              "      <td>USD</td>\n",
              "      <td>1200.70</td>\n",
              "    </tr>\n",
              "    <tr>\n",
              "      <th>29298</th>\n",
              "      <td>3f17959c32c50ee64012a5344fb3e6b1ba038963b89ca8...</td>\n",
              "      <td>20200630</td>\n",
              "      <td>3</td>\n",
              "      <td>3</td>\n",
              "      <td>3</td>\n",
              "      <td>US88160R1014</td>\n",
              "      <td>2</td>\n",
              "      <td>1.0</td>\n",
              "      <td>1083.0000</td>\n",
              "      <td>3</td>\n",
              "      <td>USD</td>\n",
              "      <td>1200.70</td>\n",
              "    </tr>\n",
              "    <tr>\n",
              "      <th>29299</th>\n",
              "      <td>3f17959c32c50ee64012a5344fb3e6b1ba038963b89ca8...</td>\n",
              "      <td>20200630</td>\n",
              "      <td>4</td>\n",
              "      <td>23</td>\n",
              "      <td>23</td>\n",
              "      <td>US88160R1014</td>\n",
              "      <td>1</td>\n",
              "      <td>2.0</td>\n",
              "      <td>1040.5600</td>\n",
              "      <td>3</td>\n",
              "      <td>USD</td>\n",
              "      <td>1200.70</td>\n",
              "    </tr>\n",
              "    <tr>\n",
              "      <th>29300</th>\n",
              "      <td>df6a314d9ef943cdb66a308a37362c492d2b8ecdfcec82...</td>\n",
              "      <td>20200630</td>\n",
              "      <td>1</td>\n",
              "      <td>23</td>\n",
              "      <td>2</td>\n",
              "      <td>US4510332038</td>\n",
              "      <td>2</td>\n",
              "      <td>100.0</td>\n",
              "      <td>2.1500</td>\n",
              "      <td>3</td>\n",
              "      <td>USD</td>\n",
              "      <td>1200.70</td>\n",
              "    </tr>\n",
              "  </tbody>\n",
              "</table>\n",
              "<p>29301 rows × 12 columns</p>\n",
              "</div>"
            ],
            "text/plain": [
              "                                                    계좌번호  ...   거래통화환율\n",
              "0      12c2bf5b4929fa3cb8b8aa7b45c0d000f7e3b868621b5b...  ...   162.55\n",
              "1      f51b1d8b13186e30aee7a407e235eb87b6b84ed85ca7a4...  ...  1118.10\n",
              "2      f51b1d8b13186e30aee7a407e235eb87b6b84ed85ca7a4...  ...  1118.10\n",
              "3      37bc7b62e55f0cf8402a1f86dc8d09b09a3028bb13afa6...  ...  1119.00\n",
              "4      e340482168a2154b323ec2b9a0d003d840590ddafb0e2b...  ...  1119.00\n",
              "...                                                  ...  ...      ...\n",
              "29296  3f17959c32c50ee64012a5344fb3e6b1ba038963b89ca8...  ...  1200.70\n",
              "29297  3f17959c32c50ee64012a5344fb3e6b1ba038963b89ca8...  ...  1200.70\n",
              "29298  3f17959c32c50ee64012a5344fb3e6b1ba038963b89ca8...  ...  1200.70\n",
              "29299  3f17959c32c50ee64012a5344fb3e6b1ba038963b89ca8...  ...  1200.70\n",
              "29300  df6a314d9ef943cdb66a308a37362c492d2b8ecdfcec82...  ...  1200.70\n",
              "\n",
              "[29301 rows x 12 columns]"
            ]
          },
          "metadata": {
            "tags": []
          },
          "execution_count": 114
        }
      ]
    },
    {
      "cell_type": "markdown",
      "metadata": {
        "id": "Ov0VLTsNgFNd"
      },
      "source": [
        "<h1><u> 주문매체 </u></h>"
      ]
    },
    {
      "cell_type": "code",
      "metadata": {
        "id": "YxxtCjBBmtd8"
      },
      "source": [
        "idx = sorted(trd_oss['주문매체구분코드'].value_counts().index)"
      ],
      "execution_count": 124,
      "outputs": []
    },
    {
      "cell_type": "code",
      "metadata": {
        "id": "JCS0Rk2szJGn"
      },
      "source": [
        "ORR_MDI = ['BranchTerminal', 'Wired-Terminal', 'Wireless MTS', 'HTS' ]"
      ],
      "execution_count": 142,
      "outputs": []
    },
    {
      "cell_type": "code",
      "metadata": {
        "colab": {
          "base_uri": "https://localhost:8080/",
          "height": 516
        },
        "id": "paznyE7ZRk7s",
        "outputId": "cefb245a-8a75-44e7-bea3-222004726ef1"
      },
      "source": [
        "#-*-coding:utf-8-*-\r\n",
        "\r\n",
        "plt.figure(figsize=(20,8))\r\n",
        "plt.bar([ ORR_MDI[j-1] for j in idx], [YZ['주문매체구분코드'].value_counts()[i] for i in idx], color=['#a5d98f', '#8fd9b6', '#8fd9cf'])\r\n",
        "\r\n",
        "\r\n",
        "'''x = [1,2,3,4,5]\r\n",
        "y = [100,200,300,400,500]\r\n",
        "\r\n",
        "import matplotlib.pyplot as plt\r\n",
        "\r\n",
        "plt.bar(x,y)'''\r\n",
        "\r\n",
        "for i in range(3):\r\n",
        "  plt.text([ORR_MDI[j-1] for j in idx][i], [YZ['주문매체구분코드'].value_counts()[i] for i in idx][i], '{}'.format([YZ['주문매체구분코드'].value_counts()[i] for i in idx][i]) )\r\n",
        "plt.title('Y&Z Generation Order Media')\r\n",
        "plt.show()\r\n"
      ],
      "execution_count": 177,
      "outputs": [
        {
          "output_type": "display_data",
          "data": {
            "image/png": "[encoded data removed]",
            "text/plain": [
              "<Figure size 1440x576 with 1 Axes>"
            ]
          },
          "metadata": {
            "tags": [],
            "needs_background": "light"
          }
        }
      ]
    },
    {
      "cell_type": "code",
      "metadata": {
        "colab": {
          "base_uri": "https://localhost:8080/"
        },
        "id": "AVum87EHWhJz",
        "outputId": "1a439e01-df3f-4fb9-aa11-a24a0a0d68c1"
      },
      "source": [
        "YZ_men = YZ[YZ['성별']==1]\r\n",
        "YZ_women = YZ[YZ['성별']==2]\r\n",
        "\r\n",
        "[YZ['주문매체구분코드'].value_counts()[i] for i in idx]"
      ],
      "execution_count": 178,
      "outputs": [
        {
          "output_type": "execute_result",
          "data": {
            "text/plain": [
              "[202, 14302, 275]"
            ]
          },
          "metadata": {
            "tags": []
          },
          "execution_count": 178
        }
      ]
    },
    {
      "cell_type": "code",
      "metadata": {
        "colab": {
          "base_uri": "https://localhost:8080/",
          "height": 624
        },
        "id": "V9spp3RrbeaN",
        "outputId": "78150fa0-9e7c-4a11-926e-93f3e0f66655"
      },
      "source": [
        "labels = [ ORR_MDI[j-1] for j in idx]\r\n",
        "men_means = [YZ_men['주문매체구분코드'].value_counts()[i] for i in idx]\r\n",
        "women_means = [YZ_women['주문매체구분코드'].value_counts()[i] for i in idx]\r\n",
        "\r\n",
        "x = np.arange(len(labels))  # the label locations\r\n",
        "width = 0.35  # the width of the bars\r\n",
        "\r\n",
        "fig, ax = plt.subplots(figsize=(20,10))\r\n",
        "rects1 = ax.bar(x - width/2, men_means, width, color='#ffc000', label='Men')\r\n",
        "rects2 = ax.bar(x + width/2, women_means, width, color='#ff9999', label='Women')\r\n",
        "\r\n",
        "# Add some text for labels, title and custom x-axis tick labels, etc.\r\n",
        "ax.set_ylabel('Counts')\r\n",
        "ax.set_title('Y&Z Generation Order Media by Gender')\r\n",
        "ax.set_xticks(x)\r\n",
        "ax.set_xticklabels(labels)\r\n",
        "ax.legend()\r\n",
        "\r\n",
        "\r\n",
        "def autolabel(rects):\r\n",
        "    \"\"\"Attach a text label above each bar in *rects*, displaying its height.\"\"\"\r\n",
        "    for rect in rects:\r\n",
        "        height = rect.get_height()\r\n",
        "        ax.annotate('{}'.format(height),\r\n",
        "                    xy=(rect.get_x() + rect.get_width() / 2, height),\r\n",
        "                    xytext=(0, 5),  # 3 points vertical offset\r\n",
        "                    textcoords=\"offset points\",\r\n",
        "                    ha='center', va='bottom')\r\n",
        "\r\n",
        "\r\n",
        "autolabel(rects1)\r\n",
        "autolabel(rects2)\r\n",
        "\r\n",
        "\r\n",
        "#fig.tight_layout()\r\n",
        "\r\n",
        "plt.show()"
      ],
      "execution_count": 193,
      "outputs": [
        {
          "output_type": "display_data",
          "data": {
            "image/png": "[encoded data removed]",
            "text/plain": [
              "<Figure size 1440x720 with 1 Axes>"
            ]
          },
          "metadata": {
            "tags": [],
            "needs_background": "light"
          }
        }
      ]
    },
    {
      "cell_type": "markdown",
      "metadata": {
        "id": "3FHn8YDCf-tR"
      },
      "source": [
        "<h1><u> 주문접수시간대 </u></h>"
      ]
    },
    {
      "cell_type": "code",
      "metadata": {
        "colab": {
          "base_uri": "https://localhost:8080/",
          "height": 292
        },
        "id": "8hfMZQffYA2f",
        "outputId": "79e65dbc-0546-4be8-f79d-f9e51e4d66a3"
      },
      "source": [
        "times = sorted(YZ['주문접수시간대'].value_counts().index)\r\n",
        "plt.plot( times, [YZ['주문접수시간대'].value_counts()[i] for i in times])"
      ],
      "execution_count": 243,
      "outputs": [
        {
          "output_type": "execute_result",
          "data": {
            "text/plain": [
              "[<matplotlib.lines.Line2D at 0x7f46b7e24b70>]"
            ]
          },
          "metadata": {
            "tags": []
          },
          "execution_count": 243
        },
        {
          "output_type": "display_data",
          "data": {
            "image/png": "[encoded data removed]",
            "text/plain": [
              "<Figure size 432x288 with 1 Axes>"
            ]
          },
          "metadata": {
            "tags": [],
            "needs_background": "light"
          }
        }
      ]
    },
    {
      "cell_type": "code",
      "metadata": {
        "colab": {
          "base_uri": "https://localhost:8080/",
          "height": 292
        },
        "id": "xckBTcAIZwZt",
        "outputId": "c555b687-1e8e-4bbe-f264-b7d10b044726"
      },
      "source": [
        "YZ_men = YZ[YZ['성별']==1]\r\n",
        "times_men = sorted(YZ_men['주문접수시간대'].value_counts().index)\r\n",
        "\r\n",
        "plt.plot( times_men, [YZ_men['주문접수시간대'].value_counts()[i] for i in times_men], color='#ffc000')"
      ],
      "execution_count": 244,
      "outputs": [
        {
          "output_type": "execute_result",
          "data": {
            "text/plain": [
              "[<matplotlib.lines.Line2D at 0x7f46b7e02588>]"
            ]
          },
          "metadata": {
            "tags": []
          },
          "execution_count": 244
        },
        {
          "output_type": "display_data",
          "data": {
            "image/png": "[encoded data removed]",
            "text/plain": [
              "<Figure size 432x288 with 1 Axes>"
            ]
          },
          "metadata": {
            "tags": [],
            "needs_background": "light"
          }
        }
      ]
    },
    {
      "cell_type": "code",
      "metadata": {
        "colab": {
          "base_uri": "https://localhost:8080/",
          "height": 292
        },
        "id": "h8mCOBX9Zxes",
        "outputId": "fcfc4161-58e0-430b-ba6b-23872ce14d9d"
      },
      "source": [
        "YZ_women = YZ[YZ['성별']==2]\r\n",
        "times_women = sorted(YZ_women['주문접수시간대'].value_counts().index)\r\n",
        "\r\n",
        "plt.plot( times_women, [YZ_women['주문접수시간대'].value_counts()[i] for i in times_women], color='#ff9999')"
      ],
      "execution_count": 245,
      "outputs": [
        {
          "output_type": "execute_result",
          "data": {
            "text/plain": [
              "[<matplotlib.lines.Line2D at 0x7f46b7dd67f0>]"
            ]
          },
          "metadata": {
            "tags": []
          },
          "execution_count": 245
        },
        {
          "output_type": "display_data",
          "data": {
            "image/png": "[encoded data removed]",
            "text/plain": [
              "<Figure size 432x288 with 1 Axes>"
            ]
          },
          "metadata": {
            "tags": [],
            "needs_background": "light"
          }
        }
      ]
    },
    {
      "cell_type": "code",
      "metadata": {
        "colab": {
          "base_uri": "https://localhost:8080/",
          "height": 534
        },
        "id": "rwopkSNIZxhF",
        "outputId": "37bb2aad-f19b-4312-cf07-957c1d7646c2"
      },
      "source": [
        "times = sorted(YZ['주문접수시간대'].value_counts().index)\r\n",
        "\r\n",
        "\r\n",
        "YZ_men = YZ[YZ['성별']==1]\r\n",
        "times_men = sorted(YZ_men['주문접수시간대'].value_counts().index)\r\n",
        "\r\n",
        "YZ_women = YZ[YZ['성별']==2]\r\n",
        "times_women = sorted(YZ_women['주문접수시간대'].value_counts().index)\r\n",
        "\r\n",
        "\r\n",
        "fig, ax= plt.subplots(1,3, figsize=(20,8))\r\n",
        "\r\n",
        "\r\n",
        "ax[0].plot( times, [YZ['주문접수시간대'].value_counts()[i] for i in times])\r\n",
        "ax[0].set_title('Order Time')\r\n",
        "\r\n",
        "ax[1].plot( times_men, [YZ_men['주문접수시간대'].value_counts()[i] for i in times_men], color='#ffc000')\r\n",
        "ax[1].set_title('Order Time (Men)')\r\n",
        "\r\n",
        "ax[2].plot( times_women, [YZ_women['주문접수시간대'].value_counts()[i] for i in times_women], color='#ff9999')\r\n",
        "ax[2].set_title('Order Time (Women)')\r\n"
      ],
      "execution_count": 246,
      "outputs": [
        {
          "output_type": "execute_result",
          "data": {
            "text/plain": [
              "Text(0.5, 1.0, 'Order Time (Women)')"
            ]
          },
          "metadata": {
            "tags": []
          },
          "execution_count": 246
        },
        {
          "output_type": "display_data",
          "data": {
            "image/png": "[encoded data removed]",
            "text/plain": [
              "<Figure size 1440x576 with 3 Axes>"
            ]
          },
          "metadata": {
            "tags": [],
            "needs_background": "light"
          }
        }
      ]
    },
    {
      "cell_type": "code",
      "metadata": {
        "colab": {
          "base_uri": "https://localhost:8080/",
          "height": 557
        },
        "id": "zWutW79zbvUQ",
        "outputId": "f7e71e58-1f1e-448f-82e1-1a90a40db7fc"
      },
      "source": [
        "times = sorted(YZ['주문접수시간대'].value_counts().index)\r\n",
        "\r\n",
        "\r\n",
        "YZ_men = YZ[YZ['성별']==1]\r\n",
        "times_men = sorted(YZ_men['주문접수시간대'].value_counts().index)\r\n",
        "\r\n",
        "YZ_women = YZ[YZ['성별']==2]\r\n",
        "times_women = sorted(YZ_women['주문접수시간대'].value_counts().index)\r\n",
        "\r\n",
        "\r\n",
        "\r\n",
        "\r\n",
        "plt.figure(figsize=(20,8))\r\n",
        "plt.plot( times, [YZ['주문접수시간대'].value_counts()[i] for i in times])\r\n",
        "plt.plot( times_men, [YZ_men['주문접수시간대'].value_counts()[i] for i in times_men], '#ffc000')\r\n",
        "plt.plot( times_women, [YZ_women['주문접수시간대'].value_counts()[i] for i in times_women], '#ff9999')\r\n",
        "plt.xlabel('Time', color='white')\r\n",
        "plt.ylabel('Orders', color='white')\r\n",
        "plt.xticks(times)\r\n",
        "\r\n",
        "plt.grid(True)\r\n",
        "plt.legend(['Whole', 'Men', 'Women'], loc='upper left')\r\n",
        "\r\n",
        "plt.title('Order Time', color='white')"
      ],
      "execution_count": 251,
      "outputs": [
        {
          "output_type": "execute_result",
          "data": {
            "text/plain": [
              "Text(0.5, 1.0, 'Order Time')"
            ]
          },
          "metadata": {
            "tags": []
          },
          "execution_count": 251
        },
        {
          "output_type": "display_data",
          "data": {
            "image/png": "[encoded data removed]",
            "text/plain": [
              "<Figure size 1440x576 with 1 Axes>"
            ]
          },
          "metadata": {
            "tags": [],
            "needs_background": "light"
          }
        }
      ]
    },
    {
      "cell_type": "markdown",
      "metadata": {
        "id": "iq1eh5oCf0AM"
      },
      "source": [
        "<h1><u> 계좌계설월 </u></h>\r\n",
        "- 흥미도 구하면, 어따 쓰지? (수익에 관련시켜야 할 듯ㅁ)"
      ]
    },
    {
      "cell_type": "code",
      "metadata": {
        "colab": {
          "base_uri": "https://localhost:8080/",
          "height": 440
        },
        "id": "b0z_oSkrfIQL",
        "outputId": "9476379d-df93-4677-deef-191dd66ceda1"
      },
      "source": [
        "YZ"
      ],
      "execution_count": 252,
      "outputs": [
        {
          "output_type": "execute_result",
          "data": {
            "text/html": [
              "<div>\n",
              "<style scoped>\n",
              "    .dataframe tbody tr th:only-of-type {\n",
              "        vertical-align: middle;\n",
              "    }\n",
              "\n",
              "    .dataframe tbody tr th {\n",
              "        vertical-align: top;\n",
              "    }\n",
              "\n",
              "    .dataframe thead th {\n",
              "        text-align: right;\n",
              "    }\n",
              "</style>\n",
              "<table border=\"1\" class=\"dataframe\">\n",
              "  <thead>\n",
              "    <tr style=\"text-align: right;\">\n",
              "      <th></th>\n",
              "      <th>계좌번호</th>\n",
              "      <th>고객번호</th>\n",
              "      <th>성별</th>\n",
              "      <th>연령대</th>\n",
              "      <th>주문날짜</th>\n",
              "      <th>주문순서</th>\n",
              "      <th>주문접수시간대</th>\n",
              "      <th>최종체결시간대</th>\n",
              "      <th>종목코드</th>\n",
              "      <th>매매구분코드</th>\n",
              "      <th>체결수량</th>\n",
              "      <th>체결가격</th>\n",
              "      <th>주문매체구분코드</th>\n",
              "      <th>거래통화코드</th>\n",
              "      <th>거래통화환율</th>\n",
              "      <th>세대</th>\n",
              "    </tr>\n",
              "  </thead>\n",
              "  <tbody>\n",
              "    <tr>\n",
              "      <th>0</th>\n",
              "      <td>12c2bf5b4929fa3cb8b8aa7b45c0d000f7e3b868621b5b...</td>\n",
              "      <td>a9f344e5eb3d6dc77ee4ba02e1bb2ae45a605cec70dafa...</td>\n",
              "      <td>1</td>\n",
              "      <td>30</td>\n",
              "      <td>20190102</td>\n",
              "      <td>1</td>\n",
              "      <td>14</td>\n",
              "      <td>14</td>\n",
              "      <td>CNE100001526</td>\n",
              "      <td>2</td>\n",
              "      <td>100.0</td>\n",
              "      <td>49.1500</td>\n",
              "      <td>3</td>\n",
              "      <td>CNY</td>\n",
              "      <td>162.55</td>\n",
              "      <td>Y</td>\n",
              "    </tr>\n",
              "    <tr>\n",
              "      <th>1</th>\n",
              "      <td>12c2bf5b4929fa3cb8b8aa7b45c0d000f7e3b868621b5b...</td>\n",
              "      <td>a9f344e5eb3d6dc77ee4ba02e1bb2ae45a605cec70dafa...</td>\n",
              "      <td>1</td>\n",
              "      <td>30</td>\n",
              "      <td>20190214</td>\n",
              "      <td>1</td>\n",
              "      <td>11</td>\n",
              "      <td>11</td>\n",
              "      <td>CNE100001526</td>\n",
              "      <td>1</td>\n",
              "      <td>1000.0</td>\n",
              "      <td>52.7000</td>\n",
              "      <td>3</td>\n",
              "      <td>CNY</td>\n",
              "      <td>165.92</td>\n",
              "      <td>Y</td>\n",
              "    </tr>\n",
              "    <tr>\n",
              "      <th>2</th>\n",
              "      <td>12c2bf5b4929fa3cb8b8aa7b45c0d000f7e3b868621b5b...</td>\n",
              "      <td>a9f344e5eb3d6dc77ee4ba02e1bb2ae45a605cec70dafa...</td>\n",
              "      <td>1</td>\n",
              "      <td>30</td>\n",
              "      <td>20190214</td>\n",
              "      <td>2</td>\n",
              "      <td>11</td>\n",
              "      <td>11</td>\n",
              "      <td>CNE100001526</td>\n",
              "      <td>1</td>\n",
              "      <td>1000.0</td>\n",
              "      <td>52.7000</td>\n",
              "      <td>3</td>\n",
              "      <td>CNY</td>\n",
              "      <td>165.92</td>\n",
              "      <td>Y</td>\n",
              "    </tr>\n",
              "    <tr>\n",
              "      <th>3</th>\n",
              "      <td>12c2bf5b4929fa3cb8b8aa7b45c0d000f7e3b868621b5b...</td>\n",
              "      <td>a9f344e5eb3d6dc77ee4ba02e1bb2ae45a605cec70dafa...</td>\n",
              "      <td>1</td>\n",
              "      <td>30</td>\n",
              "      <td>20190214</td>\n",
              "      <td>3</td>\n",
              "      <td>11</td>\n",
              "      <td>11</td>\n",
              "      <td>CNE100001526</td>\n",
              "      <td>1</td>\n",
              "      <td>100.0</td>\n",
              "      <td>52.7000</td>\n",
              "      <td>3</td>\n",
              "      <td>CNY</td>\n",
              "      <td>165.92</td>\n",
              "      <td>Y</td>\n",
              "    </tr>\n",
              "    <tr>\n",
              "      <th>4</th>\n",
              "      <td>12c2bf5b4929fa3cb8b8aa7b45c0d000f7e3b868621b5b...</td>\n",
              "      <td>a9f344e5eb3d6dc77ee4ba02e1bb2ae45a605cec70dafa...</td>\n",
              "      <td>1</td>\n",
              "      <td>30</td>\n",
              "      <td>20190214</td>\n",
              "      <td>4</td>\n",
              "      <td>11</td>\n",
              "      <td>11</td>\n",
              "      <td>CNE100001526</td>\n",
              "      <td>1</td>\n",
              "      <td>100.0</td>\n",
              "      <td>52.7000</td>\n",
              "      <td>3</td>\n",
              "      <td>CNY</td>\n",
              "      <td>165.92</td>\n",
              "      <td>Y</td>\n",
              "    </tr>\n",
              "    <tr>\n",
              "      <th>...</th>\n",
              "      <td>...</td>\n",
              "      <td>...</td>\n",
              "      <td>...</td>\n",
              "      <td>...</td>\n",
              "      <td>...</td>\n",
              "      <td>...</td>\n",
              "      <td>...</td>\n",
              "      <td>...</td>\n",
              "      <td>...</td>\n",
              "      <td>...</td>\n",
              "      <td>...</td>\n",
              "      <td>...</td>\n",
              "      <td>...</td>\n",
              "      <td>...</td>\n",
              "      <td>...</td>\n",
              "      <td>...</td>\n",
              "    </tr>\n",
              "    <tr>\n",
              "      <th>29296</th>\n",
              "      <td>d222b80b74e9d5990e136bbf0e682f34d41628139dcdfc...</td>\n",
              "      <td>6103c069e900259181efa244763c30c8df701cbe8e0e00...</td>\n",
              "      <td>1</td>\n",
              "      <td>35</td>\n",
              "      <td>20200630</td>\n",
              "      <td>2</td>\n",
              "      <td>23</td>\n",
              "      <td>23</td>\n",
              "      <td>US5500211090</td>\n",
              "      <td>2</td>\n",
              "      <td>3.0</td>\n",
              "      <td>308.1995</td>\n",
              "      <td>3</td>\n",
              "      <td>USD</td>\n",
              "      <td>1200.70</td>\n",
              "      <td>Y</td>\n",
              "    </tr>\n",
              "    <tr>\n",
              "      <th>29297</th>\n",
              "      <td>d222b80b74e9d5990e136bbf0e682f34d41628139dcdfc...</td>\n",
              "      <td>6103c069e900259181efa244763c30c8df701cbe8e0e00...</td>\n",
              "      <td>1</td>\n",
              "      <td>35</td>\n",
              "      <td>20200630</td>\n",
              "      <td>3</td>\n",
              "      <td>23</td>\n",
              "      <td>23</td>\n",
              "      <td>US30303M1027</td>\n",
              "      <td>2</td>\n",
              "      <td>4.0</td>\n",
              "      <td>219.3000</td>\n",
              "      <td>3</td>\n",
              "      <td>USD</td>\n",
              "      <td>1200.70</td>\n",
              "      <td>Y</td>\n",
              "    </tr>\n",
              "    <tr>\n",
              "      <th>29298</th>\n",
              "      <td>d222b80b74e9d5990e136bbf0e682f34d41628139dcdfc...</td>\n",
              "      <td>6103c069e900259181efa244763c30c8df701cbe8e0e00...</td>\n",
              "      <td>1</td>\n",
              "      <td>35</td>\n",
              "      <td>20200630</td>\n",
              "      <td>4</td>\n",
              "      <td>23</td>\n",
              "      <td>23</td>\n",
              "      <td>US6541061031</td>\n",
              "      <td>2</td>\n",
              "      <td>9.0</td>\n",
              "      <td>96.8000</td>\n",
              "      <td>3</td>\n",
              "      <td>USD</td>\n",
              "      <td>1200.70</td>\n",
              "      <td>Y</td>\n",
              "    </tr>\n",
              "    <tr>\n",
              "      <th>29299</th>\n",
              "      <td>d222b80b74e9d5990e136bbf0e682f34d41628139dcdfc...</td>\n",
              "      <td>6103c069e900259181efa244763c30c8df701cbe8e0e00...</td>\n",
              "      <td>1</td>\n",
              "      <td>35</td>\n",
              "      <td>20200630</td>\n",
              "      <td>5</td>\n",
              "      <td>23</td>\n",
              "      <td>23</td>\n",
              "      <td>US88160R1014</td>\n",
              "      <td>2</td>\n",
              "      <td>1.0</td>\n",
              "      <td>1046.9200</td>\n",
              "      <td>3</td>\n",
              "      <td>USD</td>\n",
              "      <td>1200.70</td>\n",
              "      <td>Y</td>\n",
              "    </tr>\n",
              "    <tr>\n",
              "      <th>29300</th>\n",
              "      <td>e8a9adb5046d7022676f72e81d29ac21e7708933db4e73...</td>\n",
              "      <td>d3fcca90af71db2f3b654e45f8d1e34c56a39ec5f0a89f...</td>\n",
              "      <td>2</td>\n",
              "      <td>30</td>\n",
              "      <td>20200630</td>\n",
              "      <td>1</td>\n",
              "      <td>22</td>\n",
              "      <td>22</td>\n",
              "      <td>US1912161007</td>\n",
              "      <td>2</td>\n",
              "      <td>1.0</td>\n",
              "      <td>44.2500</td>\n",
              "      <td>3</td>\n",
              "      <td>USD</td>\n",
              "      <td>1200.70</td>\n",
              "      <td>Y</td>\n",
              "    </tr>\n",
              "  </tbody>\n",
              "</table>\n",
              "<p>14779 rows × 16 columns</p>\n",
              "</div>"
            ],
            "text/plain": [
              "                                                    계좌번호  ... 세대\n",
              "0      12c2bf5b4929fa3cb8b8aa7b45c0d000f7e3b868621b5b...  ...  Y\n",
              "1      12c2bf5b4929fa3cb8b8aa7b45c0d000f7e3b868621b5b...  ...  Y\n",
              "2      12c2bf5b4929fa3cb8b8aa7b45c0d000f7e3b868621b5b...  ...  Y\n",
              "3      12c2bf5b4929fa3cb8b8aa7b45c0d000f7e3b868621b5b...  ...  Y\n",
              "4      12c2bf5b4929fa3cb8b8aa7b45c0d000f7e3b868621b5b...  ...  Y\n",
              "...                                                  ...  ... ..\n",
              "29296  d222b80b74e9d5990e136bbf0e682f34d41628139dcdfc...  ...  Y\n",
              "29297  d222b80b74e9d5990e136bbf0e682f34d41628139dcdfc...  ...  Y\n",
              "29298  d222b80b74e9d5990e136bbf0e682f34d41628139dcdfc...  ...  Y\n",
              "29299  d222b80b74e9d5990e136bbf0e682f34d41628139dcdfc...  ...  Y\n",
              "29300  e8a9adb5046d7022676f72e81d29ac21e7708933db4e73...  ...  Y\n",
              "\n",
              "[14779 rows x 16 columns]"
            ]
          },
          "metadata": {
            "tags": []
          },
          "execution_count": 252
        }
      ]
    },
    {
      "cell_type": "code",
      "metadata": {
        "colab": {
          "base_uri": "https://localhost:8080/",
          "height": 406
        },
        "id": "6OpFhjPWfbZT",
        "outputId": "bbfa0c79-1895-447c-c7be-7f6cd6cc8df2"
      },
      "source": [
        ""
      ],
      "execution_count": 253,
      "outputs": [
        {
          "output_type": "execute_result",
          "data": {
            "text/html": [
              "<div>\n",
              "<style scoped>\n",
              "    .dataframe tbody tr th:only-of-type {\n",
              "        vertical-align: middle;\n",
              "    }\n",
              "\n",
              "    .dataframe tbody tr th {\n",
              "        vertical-align: top;\n",
              "    }\n",
              "\n",
              "    .dataframe thead th {\n",
              "        text-align: right;\n",
              "    }\n",
              "</style>\n",
              "<table border=\"1\" class=\"dataframe\">\n",
              "  <thead>\n",
              "    <tr style=\"text-align: right;\">\n",
              "      <th></th>\n",
              "      <th>계좌번호</th>\n",
              "      <th>주문날짜</th>\n",
              "      <th>주문순서</th>\n",
              "      <th>주문접수시간대</th>\n",
              "      <th>최종체결시간대</th>\n",
              "      <th>종목코드</th>\n",
              "      <th>매매구분코드</th>\n",
              "      <th>체결수량</th>\n",
              "      <th>체결가격</th>\n",
              "      <th>주문매체구분코드</th>\n",
              "    </tr>\n",
              "  </thead>\n",
              "  <tbody>\n",
              "    <tr>\n",
              "      <th>0</th>\n",
              "      <td>6caf4de40251d37cbba310f0c6dd0ed8f4c7ca4ccfa675...</td>\n",
              "      <td>20190102</td>\n",
              "      <td>1</td>\n",
              "      <td>12</td>\n",
              "      <td>13</td>\n",
              "      <td>A215600</td>\n",
              "      <td>2</td>\n",
              "      <td>35.0</td>\n",
              "      <td>74200.0</td>\n",
              "      <td>3</td>\n",
              "    </tr>\n",
              "    <tr>\n",
              "      <th>1</th>\n",
              "      <td>6caf4de40251d37cbba310f0c6dd0ed8f4c7ca4ccfa675...</td>\n",
              "      <td>20190102</td>\n",
              "      <td>2</td>\n",
              "      <td>12</td>\n",
              "      <td>12</td>\n",
              "      <td>A001060</td>\n",
              "      <td>2</td>\n",
              "      <td>20.0</td>\n",
              "      <td>41100.0</td>\n",
              "      <td>3</td>\n",
              "    </tr>\n",
              "    <tr>\n",
              "      <th>2</th>\n",
              "      <td>effb34815e1b7efb34beb550f604ede8ac71a5a71edb30...</td>\n",
              "      <td>20190102</td>\n",
              "      <td>1</td>\n",
              "      <td>14</td>\n",
              "      <td>14</td>\n",
              "      <td>A281820</td>\n",
              "      <td>2</td>\n",
              "      <td>20.0</td>\n",
              "      <td>9460.0</td>\n",
              "      <td>4</td>\n",
              "    </tr>\n",
              "    <tr>\n",
              "      <th>3</th>\n",
              "      <td>fea6c038cb7236a02d1e779262698a36219b4c9b527ab1...</td>\n",
              "      <td>20190102</td>\n",
              "      <td>1</td>\n",
              "      <td>12</td>\n",
              "      <td>12</td>\n",
              "      <td>A006650</td>\n",
              "      <td>2</td>\n",
              "      <td>1.0</td>\n",
              "      <td>148500.0</td>\n",
              "      <td>3</td>\n",
              "    </tr>\n",
              "    <tr>\n",
              "      <th>4</th>\n",
              "      <td>fea6c038cb7236a02d1e779262698a36219b4c9b527ab1...</td>\n",
              "      <td>20190102</td>\n",
              "      <td>2</td>\n",
              "      <td>12</td>\n",
              "      <td>13</td>\n",
              "      <td>A051360</td>\n",
              "      <td>2</td>\n",
              "      <td>10.0</td>\n",
              "      <td>6550.0</td>\n",
              "      <td>3</td>\n",
              "    </tr>\n",
              "    <tr>\n",
              "      <th>...</th>\n",
              "      <td>...</td>\n",
              "      <td>...</td>\n",
              "      <td>...</td>\n",
              "      <td>...</td>\n",
              "      <td>...</td>\n",
              "      <td>...</td>\n",
              "      <td>...</td>\n",
              "      <td>...</td>\n",
              "      <td>...</td>\n",
              "      <td>...</td>\n",
              "    </tr>\n",
              "    <tr>\n",
              "      <th>3312659</th>\n",
              "      <td>a96172625957ac18f6debba0c3283f1aa4608c1d19a404...</td>\n",
              "      <td>20200630</td>\n",
              "      <td>2</td>\n",
              "      <td>13</td>\n",
              "      <td>13</td>\n",
              "      <td>A900250</td>\n",
              "      <td>1</td>\n",
              "      <td>1.0</td>\n",
              "      <td>1760.0</td>\n",
              "      <td>3</td>\n",
              "    </tr>\n",
              "    <tr>\n",
              "      <th>3312660</th>\n",
              "      <td>a96172625957ac18f6debba0c3283f1aa4608c1d19a404...</td>\n",
              "      <td>20200630</td>\n",
              "      <td>3</td>\n",
              "      <td>16</td>\n",
              "      <td>16</td>\n",
              "      <td>A011930</td>\n",
              "      <td>2</td>\n",
              "      <td>2.0</td>\n",
              "      <td>1340.0</td>\n",
              "      <td>3</td>\n",
              "    </tr>\n",
              "    <tr>\n",
              "      <th>3312661</th>\n",
              "      <td>c8d469612160df7251dd5d434ca25b0b8e2f40ace9a37f...</td>\n",
              "      <td>20200630</td>\n",
              "      <td>1</td>\n",
              "      <td>11</td>\n",
              "      <td>11</td>\n",
              "      <td>A019175</td>\n",
              "      <td>2</td>\n",
              "      <td>35.0</td>\n",
              "      <td>44000.0</td>\n",
              "      <td>3</td>\n",
              "    </tr>\n",
              "    <tr>\n",
              "      <th>3312662</th>\n",
              "      <td>1a046249ad088f30dae8038eb95d51427f10228677d4fb...</td>\n",
              "      <td>20200630</td>\n",
              "      <td>1</td>\n",
              "      <td>16</td>\n",
              "      <td>16</td>\n",
              "      <td>A037950</td>\n",
              "      <td>1</td>\n",
              "      <td>400.0</td>\n",
              "      <td>1810.0</td>\n",
              "      <td>4</td>\n",
              "    </tr>\n",
              "    <tr>\n",
              "      <th>3312663</th>\n",
              "      <td>1a046249ad088f30dae8038eb95d51427f10228677d4fb...</td>\n",
              "      <td>20200630</td>\n",
              "      <td>2</td>\n",
              "      <td>16</td>\n",
              "      <td>16</td>\n",
              "      <td>A353200</td>\n",
              "      <td>2</td>\n",
              "      <td>100.0</td>\n",
              "      <td>7740.0</td>\n",
              "      <td>4</td>\n",
              "    </tr>\n",
              "  </tbody>\n",
              "</table>\n",
              "<p>3312664 rows × 10 columns</p>\n",
              "</div>"
            ],
            "text/plain": [
              "                                                      계좌번호  ...  주문매체구분코드\n",
              "0        6caf4de40251d37cbba310f0c6dd0ed8f4c7ca4ccfa675...  ...         3\n",
              "1        6caf4de40251d37cbba310f0c6dd0ed8f4c7ca4ccfa675...  ...         3\n",
              "2        effb34815e1b7efb34beb550f604ede8ac71a5a71edb30...  ...         4\n",
              "3        fea6c038cb7236a02d1e779262698a36219b4c9b527ab1...  ...         3\n",
              "4        fea6c038cb7236a02d1e779262698a36219b4c9b527ab1...  ...         3\n",
              "...                                                    ...  ...       ...\n",
              "3312659  a96172625957ac18f6debba0c3283f1aa4608c1d19a404...  ...         3\n",
              "3312660  a96172625957ac18f6debba0c3283f1aa4608c1d19a404...  ...         3\n",
              "3312661  c8d469612160df7251dd5d434ca25b0b8e2f40ace9a37f...  ...         3\n",
              "3312662  1a046249ad088f30dae8038eb95d51427f10228677d4fb...  ...         4\n",
              "3312663  1a046249ad088f30dae8038eb95d51427f10228677d4fb...  ...         4\n",
              "\n",
              "[3312664 rows x 10 columns]"
            ]
          },
          "metadata": {
            "tags": []
          },
          "execution_count": 253
        }
      ]
    },
    {
      "cell_type": "code",
      "metadata": {
        "id": "0hWMOSHcgLun"
      },
      "source": [
        ""
      ],
      "execution_count": null,
      "outputs": []
    },
    {
      "cell_type": "markdown",
      "metadata": {
        "id": "J0aRb3dUgczc"
      },
      "source": [
        "<h1><u> 특정 주식에 대해서 (구매량 기준? iem 데이터 이용) </u></h>\r\n",
        "- cus의 고객 등급 이용할 것, 성별"
      ]
    },
    {
      "cell_type": "markdown",
      "metadata": {
        "id": "DUTo2PnIhQXS"
      },
      "source": [
        "사는 지역으로도 스토리 만들 수 있을 듯?"
      ]
    },
    {
      "cell_type": "code",
      "metadata": {
        "colab": {
          "base_uri": "https://localhost:8080/",
          "height": 406
        },
        "id": "L-Uz2OFkgfN0",
        "outputId": "51ab258c-677e-474b-be35-5273949511d0"
      },
      "source": [
        ""
      ],
      "execution_count": 255,
      "outputs": [
        {
          "output_type": "execute_result",
          "data": {
            "text/html": [
              "<div>\n",
              "<style scoped>\n",
              "    .dataframe tbody tr th:only-of-type {\n",
              "        vertical-align: middle;\n",
              "    }\n",
              "\n",
              "    .dataframe tbody tr th {\n",
              "        vertical-align: top;\n",
              "    }\n",
              "\n",
              "    .dataframe thead th {\n",
              "        text-align: right;\n",
              "    }\n",
              "</style>\n",
              "<table border=\"1\" class=\"dataframe\">\n",
              "  <thead>\n",
              "    <tr style=\"text-align: right;\">\n",
              "      <th></th>\n",
              "      <th>종목코드</th>\n",
              "      <th>종목영문명</th>\n",
              "      <th>종목한글명</th>\n",
              "    </tr>\n",
              "  </thead>\n",
              "  <tbody>\n",
              "    <tr>\n",
              "      <th>0</th>\n",
              "      <td>A000060</td>\n",
              "      <td>Meritz Fire &amp; Marine Insurance                ...</td>\n",
              "      <td>메리츠화재해상보험보통주                                  ...</td>\n",
              "    </tr>\n",
              "    <tr>\n",
              "      <th>1</th>\n",
              "      <td>A000120</td>\n",
              "      <td>CJ LOGISTICS                                  ...</td>\n",
              "      <td>씨제이대한통운보통주                                    ...</td>\n",
              "    </tr>\n",
              "    <tr>\n",
              "      <th>2</th>\n",
              "      <td>A000540</td>\n",
              "      <td>HeungkukFire&amp;MarineInsurance                  ...</td>\n",
              "      <td>흥국화재해상보험보통주                                   ...</td>\n",
              "    </tr>\n",
              "    <tr>\n",
              "      <th>3</th>\n",
              "      <td>A00088K</td>\n",
              "      <td>HANWHA(3PB)                                   ...</td>\n",
              "      <td>한화3우선주(신형)                                    ...</td>\n",
              "    </tr>\n",
              "    <tr>\n",
              "      <th>4</th>\n",
              "      <td>A000950</td>\n",
              "      <td>Chonbang                                      ...</td>\n",
              "      <td>전방보통주                                         ...</td>\n",
              "    </tr>\n",
              "    <tr>\n",
              "      <th>...</th>\n",
              "      <td>...</td>\n",
              "      <td>...</td>\n",
              "      <td>...</td>\n",
              "    </tr>\n",
              "    <tr>\n",
              "      <th>4680</th>\n",
              "      <td>US9839191015</td>\n",
              "      <td>Xilinx                                        ...</td>\n",
              "      <td>자일링스                                          ...</td>\n",
              "    </tr>\n",
              "    <tr>\n",
              "      <th>4681</th>\n",
              "      <td>US9884981013</td>\n",
              "      <td>Yum! Brands                                   ...</td>\n",
              "      <td>염! 브랜즈                                        ...</td>\n",
              "    </tr>\n",
              "    <tr>\n",
              "      <th>4682</th>\n",
              "      <td>VGG4095T1075</td>\n",
              "      <td>Greenland Tech                                ...</td>\n",
              "      <td>Greenland Tech                                ...</td>\n",
              "    </tr>\n",
              "    <tr>\n",
              "      <th>4683</th>\n",
              "      <td>VN000000SHB9</td>\n",
              "      <td>Sahabank                                      ...</td>\n",
              "      <td>Sahabank                                      ...</td>\n",
              "    </tr>\n",
              "    <tr>\n",
              "      <th>4684</th>\n",
              "      <td>VN000000SPP2</td>\n",
              "      <td>Saplastic                                     ...</td>\n",
              "      <td>Saplastic                                     ...</td>\n",
              "    </tr>\n",
              "  </tbody>\n",
              "</table>\n",
              "<p>4685 rows × 3 columns</p>\n",
              "</div>"
            ],
            "text/plain": [
              "              종목코드  ...                                              종목한글명\n",
              "0     A000060       ...  메리츠화재해상보험보통주                                  ...\n",
              "1     A000120       ...  씨제이대한통운보통주                                    ...\n",
              "2     A000540       ...  흥국화재해상보험보통주                                   ...\n",
              "3     A00088K       ...  한화3우선주(신형)                                    ...\n",
              "4     A000950       ...  전방보통주                                         ...\n",
              "...            ...  ...                                                ...\n",
              "4680  US9839191015  ...  자일링스                                          ...\n",
              "4681  US9884981013  ...  염! 브랜즈                                        ...\n",
              "4682  VGG4095T1075  ...  Greenland Tech                                ...\n",
              "4683  VN000000SHB9  ...  Sahabank                                      ...\n",
              "4684  VN000000SPP2  ...  Saplastic                                     ...\n",
              "\n",
              "[4685 rows x 3 columns]"
            ]
          },
          "metadata": {
            "tags": []
          },
          "execution_count": 255
        }
      ]
    },
    {
      "cell_type": "code",
      "metadata": {
        "id": "EKlIYynthLHg"
      },
      "source": [
        ""
      ],
      "execution_count": null,
      "outputs": []
    }
  ]
}